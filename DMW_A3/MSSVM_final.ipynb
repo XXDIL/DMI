{
  "nbformat": 4,
  "nbformat_minor": 0,
  "metadata": {
    "colab": {
      "name": "MSSVM_final.ipynb",
      "provenance": [],
      "collapsed_sections": []
    },
    "kernelspec": {
      "name": "python3",
      "display_name": "Python 3"
    },
    "language_info": {
      "name": "python"
    }
  },
  "cells": [
    {
      "cell_type": "markdown",
      "metadata": {
        "id": "3mFJ9Aic_IL1"
      },
      "source": [
        "### **[ Q.3 ] DMW_A3: Letter Recognition Using SVM (Markov Sampling)**\n",
        "----\n",
        "\n",
        "#### Group Members:\n",
        "&emsp; Milan Ashvinbhai Bhuva - **IIT2018176**\n",
        "<br> &emsp; Manav Kamlesh Agrawal - **IIT2018178**\n",
        "<br> &emsp; Mohammed Aadil - **IIT2018179**\n",
        "<br> &emsp; Ankit Kumar Rauniyar - **IIT2018202**\n",
        "\n",
        "----\n",
        "\n",
        "### **1. Importing libraries**"
      ]
    },
    {
      "cell_type": "code",
      "metadata": {
        "id": "ETgNrXHB_JR4"
      },
      "source": [
        "%matplotlib inline\n",
        "import numpy as np\n",
        "import pandas as pd\n",
        "import seaborn as sns\n",
        "import matplotlib.pyplot as plt\n",
        "\n",
        "import collections\n",
        "import random\n",
        "import math\n",
        "from collections import Counter\n",
        "import warnings\n",
        "\n",
        "from sklearn import svm\n",
        "from sklearn import metrics\n",
        "from sklearn import datasets\n",
        "from sklearn.svm import SVC\n",
        "from sklearn.metrics.pairwise import chi2_kernel\n",
        "from sklearn.model_selection import train_test_split\n",
        "from sklearn.preprocessing import scale\n"
      ],
      "execution_count": 7,
      "outputs": []
    },
    {
      "cell_type": "markdown",
      "metadata": {
        "id": "Vh9wzat_jZ2_"
      },
      "source": [
        "### **2. Importing Data**"
      ]
    },
    {
      "cell_type": "code",
      "metadata": {
        "id": "tY46J7KMAJYT"
      },
      "source": [
        "letters = pd.read_csv(\"letter-recognition.csv\")"
      ],
      "execution_count": 8,
      "outputs": []
    },
    {
      "cell_type": "markdown",
      "metadata": {
        "id": "QiUBSS5uAaq2"
      },
      "source": [
        "### **3. Data Pre-processing and Visualization**"
      ]
    },
    {
      "cell_type": "code",
      "metadata": {
        "colab": {
          "base_uri": "https://localhost:8080/"
        },
        "id": "QpvwRY9jAM6U",
        "outputId": "3dce1640-3447-4df5-bff5-a6928bdce827"
      },
      "source": [
        "#Print dimension of data\n",
        "print(\"Data dimension: \",letters.shape)"
      ],
      "execution_count": 9,
      "outputs": [
        {
          "output_type": "stream",
          "text": [
            "Data dimension:  (20000, 17)\n"
          ],
          "name": "stdout"
        }
      ]
    },
    {
      "cell_type": "code",
      "metadata": {
        "colab": {
          "base_uri": "https://localhost:8080/",
          "height": 520
        },
        "id": "-Qr-N5QJAeVD",
        "outputId": "9ddf3a8b-7a22-49de-aae2-5e4718bbadc7"
      },
      "source": [
        "# What the data looks like?\n",
        "letters.head(15)"
      ],
      "execution_count": 10,
      "outputs": [
        {
          "output_type": "execute_result",
          "data": {
            "text/html": [
              "<div>\n",
              "<style scoped>\n",
              "    .dataframe tbody tr th:only-of-type {\n",
              "        vertical-align: middle;\n",
              "    }\n",
              "\n",
              "    .dataframe tbody tr th {\n",
              "        vertical-align: top;\n",
              "    }\n",
              "\n",
              "    .dataframe thead th {\n",
              "        text-align: right;\n",
              "    }\n",
              "</style>\n",
              "<table border=\"1\" class=\"dataframe\">\n",
              "  <thead>\n",
              "    <tr style=\"text-align: right;\">\n",
              "      <th></th>\n",
              "      <th>letter</th>\n",
              "      <th>xbox</th>\n",
              "      <th>ybox</th>\n",
              "      <th>width</th>\n",
              "      <th>height</th>\n",
              "      <th>onpix</th>\n",
              "      <th>xbar</th>\n",
              "      <th>ybar</th>\n",
              "      <th>x2bar</th>\n",
              "      <th>y2bar</th>\n",
              "      <th>xybar</th>\n",
              "      <th>x2ybar</th>\n",
              "      <th>xy2bar</th>\n",
              "      <th>xedge</th>\n",
              "      <th>xedgey</th>\n",
              "      <th>yedge</th>\n",
              "      <th>yedgex</th>\n",
              "    </tr>\n",
              "  </thead>\n",
              "  <tbody>\n",
              "    <tr>\n",
              "      <th>0</th>\n",
              "      <td>T</td>\n",
              "      <td>2</td>\n",
              "      <td>8</td>\n",
              "      <td>3</td>\n",
              "      <td>5</td>\n",
              "      <td>1</td>\n",
              "      <td>8</td>\n",
              "      <td>13</td>\n",
              "      <td>0</td>\n",
              "      <td>6</td>\n",
              "      <td>6</td>\n",
              "      <td>10</td>\n",
              "      <td>8</td>\n",
              "      <td>0</td>\n",
              "      <td>8</td>\n",
              "      <td>0</td>\n",
              "      <td>8</td>\n",
              "    </tr>\n",
              "    <tr>\n",
              "      <th>1</th>\n",
              "      <td>I</td>\n",
              "      <td>5</td>\n",
              "      <td>12</td>\n",
              "      <td>3</td>\n",
              "      <td>7</td>\n",
              "      <td>2</td>\n",
              "      <td>10</td>\n",
              "      <td>5</td>\n",
              "      <td>5</td>\n",
              "      <td>4</td>\n",
              "      <td>13</td>\n",
              "      <td>3</td>\n",
              "      <td>9</td>\n",
              "      <td>2</td>\n",
              "      <td>8</td>\n",
              "      <td>4</td>\n",
              "      <td>10</td>\n",
              "    </tr>\n",
              "    <tr>\n",
              "      <th>2</th>\n",
              "      <td>D</td>\n",
              "      <td>4</td>\n",
              "      <td>11</td>\n",
              "      <td>6</td>\n",
              "      <td>8</td>\n",
              "      <td>6</td>\n",
              "      <td>10</td>\n",
              "      <td>6</td>\n",
              "      <td>2</td>\n",
              "      <td>6</td>\n",
              "      <td>10</td>\n",
              "      <td>3</td>\n",
              "      <td>7</td>\n",
              "      <td>3</td>\n",
              "      <td>7</td>\n",
              "      <td>3</td>\n",
              "      <td>9</td>\n",
              "    </tr>\n",
              "    <tr>\n",
              "      <th>3</th>\n",
              "      <td>N</td>\n",
              "      <td>7</td>\n",
              "      <td>11</td>\n",
              "      <td>6</td>\n",
              "      <td>6</td>\n",
              "      <td>3</td>\n",
              "      <td>5</td>\n",
              "      <td>9</td>\n",
              "      <td>4</td>\n",
              "      <td>6</td>\n",
              "      <td>4</td>\n",
              "      <td>4</td>\n",
              "      <td>10</td>\n",
              "      <td>6</td>\n",
              "      <td>10</td>\n",
              "      <td>2</td>\n",
              "      <td>8</td>\n",
              "    </tr>\n",
              "    <tr>\n",
              "      <th>4</th>\n",
              "      <td>G</td>\n",
              "      <td>2</td>\n",
              "      <td>1</td>\n",
              "      <td>3</td>\n",
              "      <td>1</td>\n",
              "      <td>1</td>\n",
              "      <td>8</td>\n",
              "      <td>6</td>\n",
              "      <td>6</td>\n",
              "      <td>6</td>\n",
              "      <td>6</td>\n",
              "      <td>5</td>\n",
              "      <td>9</td>\n",
              "      <td>1</td>\n",
              "      <td>7</td>\n",
              "      <td>5</td>\n",
              "      <td>10</td>\n",
              "    </tr>\n",
              "    <tr>\n",
              "      <th>5</th>\n",
              "      <td>S</td>\n",
              "      <td>4</td>\n",
              "      <td>11</td>\n",
              "      <td>5</td>\n",
              "      <td>8</td>\n",
              "      <td>3</td>\n",
              "      <td>8</td>\n",
              "      <td>8</td>\n",
              "      <td>6</td>\n",
              "      <td>9</td>\n",
              "      <td>5</td>\n",
              "      <td>6</td>\n",
              "      <td>6</td>\n",
              "      <td>0</td>\n",
              "      <td>8</td>\n",
              "      <td>9</td>\n",
              "      <td>7</td>\n",
              "    </tr>\n",
              "    <tr>\n",
              "      <th>6</th>\n",
              "      <td>B</td>\n",
              "      <td>4</td>\n",
              "      <td>2</td>\n",
              "      <td>5</td>\n",
              "      <td>4</td>\n",
              "      <td>4</td>\n",
              "      <td>8</td>\n",
              "      <td>7</td>\n",
              "      <td>6</td>\n",
              "      <td>6</td>\n",
              "      <td>7</td>\n",
              "      <td>6</td>\n",
              "      <td>6</td>\n",
              "      <td>2</td>\n",
              "      <td>8</td>\n",
              "      <td>7</td>\n",
              "      <td>10</td>\n",
              "    </tr>\n",
              "    <tr>\n",
              "      <th>7</th>\n",
              "      <td>A</td>\n",
              "      <td>1</td>\n",
              "      <td>1</td>\n",
              "      <td>3</td>\n",
              "      <td>2</td>\n",
              "      <td>1</td>\n",
              "      <td>8</td>\n",
              "      <td>2</td>\n",
              "      <td>2</td>\n",
              "      <td>2</td>\n",
              "      <td>8</td>\n",
              "      <td>2</td>\n",
              "      <td>8</td>\n",
              "      <td>1</td>\n",
              "      <td>6</td>\n",
              "      <td>2</td>\n",
              "      <td>7</td>\n",
              "    </tr>\n",
              "    <tr>\n",
              "      <th>8</th>\n",
              "      <td>J</td>\n",
              "      <td>2</td>\n",
              "      <td>2</td>\n",
              "      <td>4</td>\n",
              "      <td>4</td>\n",
              "      <td>2</td>\n",
              "      <td>10</td>\n",
              "      <td>6</td>\n",
              "      <td>2</td>\n",
              "      <td>6</td>\n",
              "      <td>12</td>\n",
              "      <td>4</td>\n",
              "      <td>8</td>\n",
              "      <td>1</td>\n",
              "      <td>6</td>\n",
              "      <td>1</td>\n",
              "      <td>7</td>\n",
              "    </tr>\n",
              "    <tr>\n",
              "      <th>9</th>\n",
              "      <td>M</td>\n",
              "      <td>11</td>\n",
              "      <td>15</td>\n",
              "      <td>13</td>\n",
              "      <td>9</td>\n",
              "      <td>7</td>\n",
              "      <td>13</td>\n",
              "      <td>2</td>\n",
              "      <td>6</td>\n",
              "      <td>2</td>\n",
              "      <td>12</td>\n",
              "      <td>1</td>\n",
              "      <td>9</td>\n",
              "      <td>8</td>\n",
              "      <td>1</td>\n",
              "      <td>1</td>\n",
              "      <td>8</td>\n",
              "    </tr>\n",
              "    <tr>\n",
              "      <th>10</th>\n",
              "      <td>X</td>\n",
              "      <td>3</td>\n",
              "      <td>9</td>\n",
              "      <td>5</td>\n",
              "      <td>7</td>\n",
              "      <td>4</td>\n",
              "      <td>8</td>\n",
              "      <td>7</td>\n",
              "      <td>3</td>\n",
              "      <td>8</td>\n",
              "      <td>5</td>\n",
              "      <td>6</td>\n",
              "      <td>8</td>\n",
              "      <td>2</td>\n",
              "      <td>8</td>\n",
              "      <td>6</td>\n",
              "      <td>7</td>\n",
              "    </tr>\n",
              "    <tr>\n",
              "      <th>11</th>\n",
              "      <td>O</td>\n",
              "      <td>6</td>\n",
              "      <td>13</td>\n",
              "      <td>4</td>\n",
              "      <td>7</td>\n",
              "      <td>4</td>\n",
              "      <td>6</td>\n",
              "      <td>7</td>\n",
              "      <td>6</td>\n",
              "      <td>3</td>\n",
              "      <td>10</td>\n",
              "      <td>7</td>\n",
              "      <td>9</td>\n",
              "      <td>5</td>\n",
              "      <td>9</td>\n",
              "      <td>5</td>\n",
              "      <td>8</td>\n",
              "    </tr>\n",
              "    <tr>\n",
              "      <th>12</th>\n",
              "      <td>G</td>\n",
              "      <td>4</td>\n",
              "      <td>9</td>\n",
              "      <td>6</td>\n",
              "      <td>7</td>\n",
              "      <td>6</td>\n",
              "      <td>7</td>\n",
              "      <td>8</td>\n",
              "      <td>6</td>\n",
              "      <td>2</td>\n",
              "      <td>6</td>\n",
              "      <td>5</td>\n",
              "      <td>11</td>\n",
              "      <td>4</td>\n",
              "      <td>8</td>\n",
              "      <td>7</td>\n",
              "      <td>8</td>\n",
              "    </tr>\n",
              "    <tr>\n",
              "      <th>13</th>\n",
              "      <td>M</td>\n",
              "      <td>6</td>\n",
              "      <td>9</td>\n",
              "      <td>8</td>\n",
              "      <td>6</td>\n",
              "      <td>9</td>\n",
              "      <td>7</td>\n",
              "      <td>8</td>\n",
              "      <td>6</td>\n",
              "      <td>5</td>\n",
              "      <td>7</td>\n",
              "      <td>5</td>\n",
              "      <td>8</td>\n",
              "      <td>8</td>\n",
              "      <td>9</td>\n",
              "      <td>8</td>\n",
              "      <td>6</td>\n",
              "    </tr>\n",
              "    <tr>\n",
              "      <th>14</th>\n",
              "      <td>R</td>\n",
              "      <td>5</td>\n",
              "      <td>9</td>\n",
              "      <td>5</td>\n",
              "      <td>7</td>\n",
              "      <td>6</td>\n",
              "      <td>6</td>\n",
              "      <td>11</td>\n",
              "      <td>7</td>\n",
              "      <td>3</td>\n",
              "      <td>7</td>\n",
              "      <td>3</td>\n",
              "      <td>9</td>\n",
              "      <td>2</td>\n",
              "      <td>7</td>\n",
              "      <td>5</td>\n",
              "      <td>11</td>\n",
              "    </tr>\n",
              "  </tbody>\n",
              "</table>\n",
              "</div>"
            ],
            "text/plain": [
              "   letter  xbox   ybox   width   height  ...  xy2bar  xedge   xedgey  yedge   yedgex\n",
              "0       T      2      8       3       5  ...       8       0       8       0       8\n",
              "1       I      5     12       3       7  ...       9       2       8       4      10\n",
              "2       D      4     11       6       8  ...       7       3       7       3       9\n",
              "3       N      7     11       6       6  ...      10       6      10       2       8\n",
              "4       G      2      1       3       1  ...       9       1       7       5      10\n",
              "5       S      4     11       5       8  ...       6       0       8       9       7\n",
              "6       B      4      2       5       4  ...       6       2       8       7      10\n",
              "7       A      1      1       3       2  ...       8       1       6       2       7\n",
              "8       J      2      2       4       4  ...       8       1       6       1       7\n",
              "9       M     11     15      13       9  ...       9       8       1       1       8\n",
              "10      X      3      9       5       7  ...       8       2       8       6       7\n",
              "11      O      6     13       4       7  ...       9       5       9       5       8\n",
              "12      G      4      9       6       7  ...      11       4       8       7       8\n",
              "13      M      6      9       8       6  ...       8       8       9       8       6\n",
              "14      R      5      9       5       7  ...       9       2       7       5      11\n",
              "\n",
              "[15 rows x 17 columns]"
            ]
          },
          "metadata": {
            "tags": []
          },
          "execution_count": 10
        }
      ]
    },
    {
      "cell_type": "code",
      "metadata": {
        "colab": {
          "base_uri": "https://localhost:8080/",
          "height": 877
        },
        "id": "599CWEc3AoVb",
        "outputId": "62abbb4d-a3a7-4a06-c6f8-ebaf8d757785"
      },
      "source": [
        "plt.figure(figsize=(15,15))\n",
        "\n",
        "for i in range(1, 17):\n",
        "    plt.subplot(4, 4, i)\n",
        "    sns.histplot(letters.iloc[:, i], bins=30)\n",
        "    \n",
        "plt.show()"
      ],
      "execution_count": 11,
      "outputs": [
        {
          "output_type": "display_data",
          "data": {
            "image/png": "[encoded data removed]",
            "text/plain": [
              "<Figure size 1080x1080 with 16 Axes>"
            ]
          },
          "metadata": {
            "tags": [],
            "needs_background": "light"
          }
        }
      ]
    },
    {
      "cell_type": "code",
      "metadata": {
        "colab": {
          "base_uri": "https://localhost:8080/",
          "height": 865
        },
        "id": "E2mnDmtoA3hi",
        "outputId": "a0f80954-3e8e-4dee-e695-edfb8b1e6e94"
      },
      "source": [
        "# What letters does the dataset contain?\n",
        "order = list(np.sort(letters['letter'].unique()))\n",
        "total = list(letters['letter'])\n",
        "\n",
        "freq1 = {}\n",
        "\n",
        "for i in total:\n",
        "    if i not in freq1:\n",
        "        freq1[i] = 1\n",
        "    else:\n",
        "        freq1[i] += 1\n",
        "\n",
        "freq = dict(sorted(freq1.items()))\n",
        "perc = [i/200 for i in freq.values()]\n",
        "freq_df = pd.DataFrame(freq.items(), columns=['Letter', 'Frequency'])\n",
        "helllinger = \"poly\"\n",
        "freq_df['Percentage(%)'] = perc\n",
        "freq_df"
      ],
      "execution_count": 12,
      "outputs": [
        {
          "output_type": "execute_result",
          "data": {
            "text/html": [
              "<div>\n",
              "<style scoped>\n",
              "    .dataframe tbody tr th:only-of-type {\n",
              "        vertical-align: middle;\n",
              "    }\n",
              "\n",
              "    .dataframe tbody tr th {\n",
              "        vertical-align: top;\n",
              "    }\n",
              "\n",
              "    .dataframe thead th {\n",
              "        text-align: right;\n",
              "    }\n",
              "</style>\n",
              "<table border=\"1\" class=\"dataframe\">\n",
              "  <thead>\n",
              "    <tr style=\"text-align: right;\">\n",
              "      <th></th>\n",
              "      <th>Letter</th>\n",
              "      <th>Frequency</th>\n",
              "      <th>Percentage(%)</th>\n",
              "    </tr>\n",
              "  </thead>\n",
              "  <tbody>\n",
              "    <tr>\n",
              "      <th>0</th>\n",
              "      <td>A</td>\n",
              "      <td>789</td>\n",
              "      <td>3.945</td>\n",
              "    </tr>\n",
              "    <tr>\n",
              "      <th>1</th>\n",
              "      <td>B</td>\n",
              "      <td>766</td>\n",
              "      <td>3.830</td>\n",
              "    </tr>\n",
              "    <tr>\n",
              "      <th>2</th>\n",
              "      <td>C</td>\n",
              "      <td>736</td>\n",
              "      <td>3.680</td>\n",
              "    </tr>\n",
              "    <tr>\n",
              "      <th>3</th>\n",
              "      <td>D</td>\n",
              "      <td>805</td>\n",
              "      <td>4.025</td>\n",
              "    </tr>\n",
              "    <tr>\n",
              "      <th>4</th>\n",
              "      <td>E</td>\n",
              "      <td>768</td>\n",
              "      <td>3.840</td>\n",
              "    </tr>\n",
              "    <tr>\n",
              "      <th>5</th>\n",
              "      <td>F</td>\n",
              "      <td>775</td>\n",
              "      <td>3.875</td>\n",
              "    </tr>\n",
              "    <tr>\n",
              "      <th>6</th>\n",
              "      <td>G</td>\n",
              "      <td>773</td>\n",
              "      <td>3.865</td>\n",
              "    </tr>\n",
              "    <tr>\n",
              "      <th>7</th>\n",
              "      <td>H</td>\n",
              "      <td>734</td>\n",
              "      <td>3.670</td>\n",
              "    </tr>\n",
              "    <tr>\n",
              "      <th>8</th>\n",
              "      <td>I</td>\n",
              "      <td>755</td>\n",
              "      <td>3.775</td>\n",
              "    </tr>\n",
              "    <tr>\n",
              "      <th>9</th>\n",
              "      <td>J</td>\n",
              "      <td>747</td>\n",
              "      <td>3.735</td>\n",
              "    </tr>\n",
              "    <tr>\n",
              "      <th>10</th>\n",
              "      <td>K</td>\n",
              "      <td>739</td>\n",
              "      <td>3.695</td>\n",
              "    </tr>\n",
              "    <tr>\n",
              "      <th>11</th>\n",
              "      <td>L</td>\n",
              "      <td>761</td>\n",
              "      <td>3.805</td>\n",
              "    </tr>\n",
              "    <tr>\n",
              "      <th>12</th>\n",
              "      <td>M</td>\n",
              "      <td>792</td>\n",
              "      <td>3.960</td>\n",
              "    </tr>\n",
              "    <tr>\n",
              "      <th>13</th>\n",
              "      <td>N</td>\n",
              "      <td>783</td>\n",
              "      <td>3.915</td>\n",
              "    </tr>\n",
              "    <tr>\n",
              "      <th>14</th>\n",
              "      <td>O</td>\n",
              "      <td>753</td>\n",
              "      <td>3.765</td>\n",
              "    </tr>\n",
              "    <tr>\n",
              "      <th>15</th>\n",
              "      <td>P</td>\n",
              "      <td>803</td>\n",
              "      <td>4.015</td>\n",
              "    </tr>\n",
              "    <tr>\n",
              "      <th>16</th>\n",
              "      <td>Q</td>\n",
              "      <td>783</td>\n",
              "      <td>3.915</td>\n",
              "    </tr>\n",
              "    <tr>\n",
              "      <th>17</th>\n",
              "      <td>R</td>\n",
              "      <td>758</td>\n",
              "      <td>3.790</td>\n",
              "    </tr>\n",
              "    <tr>\n",
              "      <th>18</th>\n",
              "      <td>S</td>\n",
              "      <td>748</td>\n",
              "      <td>3.740</td>\n",
              "    </tr>\n",
              "    <tr>\n",
              "      <th>19</th>\n",
              "      <td>T</td>\n",
              "      <td>796</td>\n",
              "      <td>3.980</td>\n",
              "    </tr>\n",
              "    <tr>\n",
              "      <th>20</th>\n",
              "      <td>U</td>\n",
              "      <td>813</td>\n",
              "      <td>4.065</td>\n",
              "    </tr>\n",
              "    <tr>\n",
              "      <th>21</th>\n",
              "      <td>V</td>\n",
              "      <td>764</td>\n",
              "      <td>3.820</td>\n",
              "    </tr>\n",
              "    <tr>\n",
              "      <th>22</th>\n",
              "      <td>W</td>\n",
              "      <td>752</td>\n",
              "      <td>3.760</td>\n",
              "    </tr>\n",
              "    <tr>\n",
              "      <th>23</th>\n",
              "      <td>X</td>\n",
              "      <td>787</td>\n",
              "      <td>3.935</td>\n",
              "    </tr>\n",
              "    <tr>\n",
              "      <th>24</th>\n",
              "      <td>Y</td>\n",
              "      <td>786</td>\n",
              "      <td>3.930</td>\n",
              "    </tr>\n",
              "    <tr>\n",
              "      <th>25</th>\n",
              "      <td>Z</td>\n",
              "      <td>734</td>\n",
              "      <td>3.670</td>\n",
              "    </tr>\n",
              "  </tbody>\n",
              "</table>\n",
              "</div>"
            ],
            "text/plain": [
              "   Letter  Frequency  Percentage(%)\n",
              "0       A        789          3.945\n",
              "1       B        766          3.830\n",
              "2       C        736          3.680\n",
              "3       D        805          4.025\n",
              "4       E        768          3.840\n",
              "5       F        775          3.875\n",
              "6       G        773          3.865\n",
              "7       H        734          3.670\n",
              "8       I        755          3.775\n",
              "9       J        747          3.735\n",
              "10      K        739          3.695\n",
              "11      L        761          3.805\n",
              "12      M        792          3.960\n",
              "13      N        783          3.915\n",
              "14      O        753          3.765\n",
              "15      P        803          4.015\n",
              "16      Q        783          3.915\n",
              "17      R        758          3.790\n",
              "18      S        748          3.740\n",
              "19      T        796          3.980\n",
              "20      U        813          4.065\n",
              "21      V        764          3.820\n",
              "22      W        752          3.760\n",
              "23      X        787          3.935\n",
              "24      Y        786          3.930\n",
              "25      Z        734          3.670"
            ]
          },
          "metadata": {
            "tags": []
          },
          "execution_count": 12
        }
      ]
    },
    {
      "cell_type": "code",
      "metadata": {
        "colab": {
          "base_uri": "https://localhost:8080/"
        },
        "id": "3i24OO2CEFVy",
        "outputId": "57a04d7f-755f-4ae5-9b99-5c476ff94643"
      },
      "source": [
        "# Split into X and y\n",
        "X = letters.drop(\"letter\", axis = 1)\n",
        "y = letters['letter']\n",
        "\n",
        "X_scaled = scale(X)\n",
        "\n",
        "X_train, X_test, y_train, y_test = train_test_split(X_scaled, y, test_size = 0.4, random_state = 101)\n",
        "print(X_train.shape)\n",
        "print(y_train.shape)"
      ],
      "execution_count": 13,
      "outputs": [
        {
          "output_type": "stream",
          "text": [
            "(12000, 16)\n",
            "(12000,)\n"
          ],
          "name": "stdout"
        }
      ]
    },
    {
      "cell_type": "markdown",
      "metadata": {
        "id": "hV2tXveseR1c"
      },
      "source": [
        "### **4. Markov Sampling**"
      ]
    },
    {
      "cell_type": "code",
      "metadata": {
        "id": "1BVNVssvW9yC",
        "colab": {
          "base_uri": "https://localhost:8080/"
        },
        "outputId": "6a057a4a-2579-4465-d613-4e0048717636"
      },
      "source": [
        "def markovSampling(X_train, Y_train):\n",
        "\n",
        "    k = 5\n",
        "    q = 1.2\n",
        "\n",
        "    # This function applies the algorithm mentioned in the paper step-by-step.\n",
        "\n",
        "    ''' Let m be the size of training samples and m%2 be the remainder of m divided by 2. m+ and m− denote the size of training samples which label\n",
        "        are +1 and −1, respectively. Set m+ = 0 and m− = 0.'''\n",
        "\n",
        "    # Initialise m, m_plus, and m_minus.    \n",
        "    m, m_minus, m_plus = 0, 0, 0\n",
        "\n",
        "    ''' Draw randomly N1(N1 ≤ m) training samples {zi} N1 i=1 from the dataset Dtr. '''\n",
        "\n",
        "    # Drawing a sample from the dataset using sample().\n",
        "\n",
        "    firstSample = np.concatenate((np.vstack(X_train), np.vstack(Y_train.to_numpy())), axis = 1)\n",
        "    temp = list(firstSample)\n",
        "    dataset_DTR = random.sample(temp, 8000)\n",
        "\n",
        "    m = len(dataset_DTR)\n",
        "\n",
        "    index = np.random.choice(m, 1, replace=False)  \n",
        "\n",
        "    # Converting the dataset_DTR into numpy.array() form.\n",
        "\n",
        "    updated_data = np.array(dataset_DTR)\n",
        "\n",
        "    ''' Draw randomly a sample from Dtr and denote it the current sample zt. '''\n",
        "\n",
        "    zt = updated_data[index][0]\n",
        "\n",
        "    ''' If m%2 = 0, set m+ = m+ + 1 if the label of zt is +1, or set m− = m− + 1 if the label of zt is −1. '''\n",
        "\n",
        "    if m%2 == 0:\n",
        "        if zt[16] == 'A':       # Here, 'A' is taken as +1 whereas the other alphabets [B-Z] are considered as -1.\n",
        "            m_plus += 1;\n",
        "        else:\n",
        "            m_minus += 1\n",
        "    \n",
        "    # Initialise f0, derivative and double derivative of P.\n",
        "\n",
        "    f_knot = 1\n",
        "    p1, p2,samples = 0, 0, []\n",
        "\n",
        "    # Application of SVMC on linear kernel.\n",
        "\n",
        "    model_linear = SVC(kernel='linear')\n",
        "    model_linear.fit(X_train, Y_train)\n",
        "    \n",
        "    yzt = model_linear.predict(np.array(zt)[0:16].reshape(1, -1))\n",
        "    \n",
        "    ''' Set zt+1 = z∗, m+ = m+ +1 if the label of zt is +1, or set m− = m− + 1 if the label of zt is −1 '''\n",
        "\n",
        "    if (yzt==zt[16]) == False:\n",
        "        f_knot = 2 \n",
        "    lzt = math.exp(0-f_knot)\n",
        "    \n",
        "    ''' Step 6: If m+ < m/2 or m− < m/2 then return to Step 3, else stop it. '''\n",
        "\n",
        "    while (m_plus + m_minus < m):\n",
        "        fxy = 1\n",
        "        \n",
        "        z_star = updated_data[np.random.choice(len(dataset_DTR), 1, replace=False)][0]\n",
        "        y_star = model_linear.predict(np.array(z_star)[0:16].reshape(1, -1))\n",
        "    \n",
        "        if (y_star==z_star[16]) == False:\n",
        "            fxy = 2 \n",
        "\n",
        "        ''' Calculate the ratio P of e−(f0,z) at the sample z∗ and the sample zt, P = e−(f0,z∗) /e−(f0,zt). '''\n",
        "        yt = zt[16]\n",
        "        zt = z_star\n",
        "\n",
        "        l_z_star = math.exp(0-fxy)\n",
        "\n",
        "        # Computing P = e^ −(f0,z∗)/ e^ −(f0,zt)\n",
        "\n",
        "        P = math.exp(lzt-l_z_star)\n",
        "\n",
        "        ''' If P = 1, yt = −1 and y∗ = −1 accept z∗ with probability P '''\n",
        "\n",
        "        if P == 1:\n",
        "            if zt[16] == yt:\n",
        "\n",
        "              ''' If P = 1, yt = 1 and y∗ = 1 accept z∗ with probability P = e^−y∗f0 /e^−ytf0 '''\n",
        "\n",
        "              randomProbValue = random.uniform(0.001, 1.0)\n",
        "              if randomProbValue <= P:\n",
        "\n",
        "                  #Pdash = e−y∗f0 /e−ytf0\n",
        "                 samples.append(z_star) \n",
        "            else:\n",
        "              if yt == \"A\":\n",
        "                candidSample_0 = 1\n",
        "              else:\n",
        "                candidSample_0 = -1\n",
        "              \n",
        "              if y_star == \"A\":\n",
        "                candidSample = 1\n",
        "              else:\n",
        "                candidSample = -1\n",
        "              \n",
        "              randomProbValue = random.uniform(0.001, 1.0)\n",
        "              p1 = math.exp(candidSample_0 * f_knot - candidSample*fxy)\n",
        "              \n",
        "              if randomProbValue <= p1:\n",
        "                samples.append(z_star) \n",
        "\n",
        "        ''' If there are k candidate samples z∗ can not be accepted continuously, then set P = qP and with probability P accept z∗. '''\n",
        "\n",
        "        if len(samples) == k:\n",
        "            p2 = q*P\n",
        "            samples.append(z_star)\n",
        "            \n",
        "        ztp1 = z_star\n",
        "\n",
        "        if yt == 'A':\n",
        "            m_plus += 1\n",
        "        else:\n",
        "            m_minus += 1\n",
        "\n",
        "        if P > 1 or p1 > 1 or p2 > 1:\n",
        "           samples.append(z_star)\n",
        "\n",
        "    return samples\n",
        "\n",
        "total_samples = np.array(markovSampling(X_train, y_train))\n",
        "X_train, y_train = total_samples[:, 0:16], total_samples[:, 16]\n",
        "print(\"Dimensionso of X_train: \",X_train.shape)"
      ],
      "execution_count": 14,
      "outputs": [
        {
          "output_type": "stream",
          "text": [
            "Dimensionso of X_train:  (14663, 16)\n"
          ],
          "name": "stdout"
        }
      ]
    },
    {
      "cell_type": "code",
      "metadata": {
        "colab": {
          "base_uri": "https://localhost:8080/"
        },
        "id": "cC2CyRGEXTf9",
        "outputId": "5139cc5a-67de-4590-88af-32f5d933bc33"
      },
      "source": [
        "Y_train = []\n",
        "for i in y_train:\n",
        "    asciiToInt = ord(i)\n",
        "    Y_train.append(asciiToInt)\n",
        "print(\"Length of Y_train: \",len(Y_train))"
      ],
      "execution_count": 15,
      "outputs": [
        {
          "output_type": "stream",
          "text": [
            "Length of Y_train:  14663\n"
          ],
          "name": "stdout"
        }
      ]
    },
    {
      "cell_type": "markdown",
      "metadata": {
        "id": "gcGLIYeOOLBc"
      },
      "source": [
        "### **5. Support Vector Machine** (different models)"
      ]
    },
    {
      "cell_type": "code",
      "metadata": {
        "id": "9DFUjZOG4Tqn"
      },
      "source": [
        "acc_array = []\n",
        "\n",
        "# Function to compute Y_test for each kernel.\n",
        "\n",
        "def computeTest(j):\n",
        "  Y_test = []\n",
        "  for i in j:\n",
        "    ascToInt = ord(i)\n",
        "    Y_test.append(ascToInt)\n",
        "  return Y_test"
      ],
      "execution_count": 16,
      "outputs": []
    },
    {
      "cell_type": "markdown",
      "metadata": {
        "id": "uvKJgh1zOyHq"
      },
      "source": [
        "### **5.i) Linear Model**"
      ]
    },
    {
      "cell_type": "code",
      "metadata": {
        "colab": {
          "base_uri": "https://localhost:8080/"
        },
        "id": "N-U5sOv7OrcU",
        "outputId": "40a00549-2df2-4818-d3d1-f0ba3953cdff"
      },
      "source": [
        "# LINEAR\n",
        "\n",
        "model_linear = SVC(kernel='linear')\n",
        "model_linear.fit(X_train, Y_train)\n",
        "\n",
        "# predict\n",
        "predicted_linear = model_linear.predict(X_test)\n",
        "\n",
        "# function call\n",
        "Y_test = computeTest(y_test)\n",
        "    \n",
        "lin_acc = metrics.accuracy_score(Y_test, predicted_linear)\n",
        "acc_array.append(str(1-float(lin_acc))[:4])\n",
        "print(\"accuracy:\", lin_acc*100, \"\\n\")"
      ],
      "execution_count": 17,
      "outputs": [
        {
          "output_type": "stream",
          "text": [
            "accuracy: 83.8875 \n",
            "\n"
          ],
          "name": "stdout"
        }
      ]
    },
    {
      "cell_type": "markdown",
      "metadata": {
        "id": "9t-sDObYPEe9"
      },
      "source": [
        "### **5.ii) RBF**"
      ]
    },
    {
      "cell_type": "code",
      "metadata": {
        "colab": {
          "base_uri": "https://localhost:8080/"
        },
        "id": "eF3gB_UkO9Uz",
        "outputId": "e8c0c088-f0ee-4d83-8000-7609df0b3bf7"
      },
      "source": [
        "# RBF\n",
        "\n",
        "model_linear = SVC(kernel='rbf')\n",
        "model_linear.fit(X_train, Y_train)\n",
        "\n",
        "# predict\n",
        "predicted_rbf = model_linear.predict(X_test)\n",
        "\n",
        "# function call\n",
        "Y_test = computeTest(y_test)\n",
        "\n",
        "rbf_acc = metrics.accuracy_score(Y_test, predicted_rbf)\n",
        "acc_array.append(str(1-float(rbf_acc))[:4])\n",
        "print(\"accuracy:\", rbf_acc*100, \"\\n\")"
      ],
      "execution_count": 18,
      "outputs": [
        {
          "output_type": "stream",
          "text": [
            "accuracy: 91.60000000000001 \n",
            "\n"
          ],
          "name": "stdout"
        }
      ]
    },
    {
      "cell_type": "markdown",
      "metadata": {
        "id": "oHMpNsoNc6xn"
      },
      "source": [
        "### **5.iii Intersection**"
      ]
    },
    {
      "cell_type": "code",
      "metadata": {
        "colab": {
          "base_uri": "https://localhost:8080/"
        },
        "id": "NBvWcPR1c5hi",
        "outputId": "534716e4-6d6b-4552-aeca-48a791e7e9b2"
      },
      "source": [
        "def intersection(data_1, data_2):\n",
        "\n",
        "    if np.any(data_1 < 0) or np.any(data_2 < 0):\n",
        "        warnings.warn('Min kernel requires data to be strictly positive!')\n",
        "\n",
        "    kernel = np.zeros((data_1.shape[0], data_2.shape[0]))\n",
        "\n",
        "    for d in range(data_1.shape[1]):\n",
        "        column_1 = data_1[:, d].reshape(-1, 1)\n",
        "        column_2 = data_2[:, d].reshape(-1, 1)\n",
        "        kernel += np.minimum(column_1, column_2.T)\n",
        "\n",
        "    return kernel\n",
        "\n",
        "# function call\n",
        "Y_test = computeTest(y_test)\n",
        "\n",
        "# Intersection Kernel\n",
        "model_intersection = SVC(kernel=intersection, C=1E01,tol=0.1)\n",
        "model_intersection.fit(X_train, Y_train)\n",
        "\n",
        "predicted_intersection = model_intersection.predict(X_test)\n",
        "print(\"Intersection Kernel Done\")\n",
        "\n",
        "int_acc = metrics.accuracy_score(y_true=Y_test, y_pred=predicted_intersection)\n",
        "acc_array.append(str(1-float(int_acc))[:4])\n",
        "print(\"accuracy:\", int_acc*100, \"\\n\")"
      ],
      "execution_count": 19,
      "outputs": [
        {
          "output_type": "stream",
          "text": [
            "/usr/local/lib/python3.7/dist-packages/ipykernel_launcher.py:4: UserWarning: Min kernel requires data to be strictly positive!\n",
            "  after removing the cwd from sys.path.\n",
            "/usr/local/lib/python3.7/dist-packages/ipykernel_launcher.py:4: UserWarning: Min kernel requires data to be strictly positive!\n",
            "  after removing the cwd from sys.path.\n"
          ],
          "name": "stderr"
        },
        {
          "output_type": "stream",
          "text": [
            "Intersection Kernel Done\n",
            "accuracy: 88.8875 \n",
            "\n"
          ],
          "name": "stdout"
        }
      ]
    },
    {
      "cell_type": "markdown",
      "metadata": {
        "id": "I069Q_rkPenD"
      },
      "source": [
        "### **5.iv) Hellinger**"
      ]
    },
    {
      "cell_type": "code",
      "metadata": {
        "colab": {
          "base_uri": "https://localhost:8080/"
        },
        "id": "LCNdsHiDPWNQ",
        "outputId": "205ff760-0840-4c56-a19f-3cf78409d7e5"
      },
      "source": [
        "#Hellinger\n",
        "\n",
        "def hellinger(p, q):\n",
        "    helinger = norm(np.sqrt(p) - np.sqrt(q)) / np.sqrt(2)\n",
        "    return helinger\n",
        "\n",
        "model_linear = SVC(kernel=helllinger)\n",
        "model_linear.fit(X_train, Y_train)\n",
        "\n",
        "# predict\n",
        "predicted_hellinger = model_linear.predict(X_test)\n",
        "\n",
        "# function call\n",
        "Y_test = computeTest(y_test)\n",
        "\n",
        "accuracy_helgnr = metrics.accuracy_score(Y_test, predicted_hellinger)\n",
        "acc_array.append(str(1-float(accuracy_helgnr))[:4])\n",
        "print(\"accuracy:\", accuracy_helgnr*100, \"\\n\")"
      ],
      "execution_count": 20,
      "outputs": [
        {
          "output_type": "stream",
          "text": [
            "accuracy: 86.075 \n",
            "\n"
          ],
          "name": "stdout"
        }
      ]
    },
    {
      "cell_type": "markdown",
      "metadata": {
        "id": "CBlATzYt0GON"
      },
      "source": [
        "### **5.v CHI^2**"
      ]
    },
    {
      "cell_type": "code",
      "metadata": {
        "id": "WfcPq0IamYZr",
        "colab": {
          "base_uri": "https://localhost:8080/"
        },
        "outputId": "4e909481-af06-444a-e92b-0a783cbf7258"
      },
      "source": [
        "# CHI^2 KERNEL\n",
        "\n",
        "from sklearn.metrics.pairwise import chi2_kernel\n",
        "try:\n",
        "  # Chi^2 Kernel\n",
        "  model_chi2 = SVC(kernel=chi2_kernel, C=1E01,tol=0.1)\n",
        "  try:\n",
        "    model_chi2.fit(X_train, Y_train)\n",
        "  except:\n",
        "    print()\n",
        "  predicted_chi2 = model_chi2.predict(X_train)\n",
        "\n",
        "\n",
        "  # function call\n",
        "  Y_test = Y_test(y_test)\n",
        "\n",
        "  accuracy = metrics.accuracy_score(Y_test, predicted_chi2)\n",
        "  acc_array.append(\"NaN\")\n",
        "  print(\"accuracy: \", accuracy*100, \"%\")\n",
        "except:\n",
        "  acc_array.append(\"NaN\")"
      ],
      "execution_count": 21,
      "outputs": [
        {
          "output_type": "stream",
          "text": [
            "\n"
          ],
          "name": "stdout"
        }
      ]
    },
    {
      "cell_type": "markdown",
      "metadata": {
        "id": "yNv-bAANCqJW"
      },
      "source": [
        "### **6. Tabular Representation**"
      ]
    },
    {
      "cell_type": "code",
      "metadata": {
        "colab": {
          "base_uri": "https://localhost:8080/",
          "height": 206
        },
        "id": "MTHN_Ugp7_ay",
        "outputId": "770237f8-295e-47ac-c163-6c202da51c69"
      },
      "source": [
        "table = pd.DataFrame(columns=['Kernel', 'KPCA', 'SVDD', 'OCSVM', 'OCSSVM', 'OCSSVM with SMO', 'MS_SVM'])\n",
        "table['Kernel'] = ['Linear', 'RBF', 'Intersection', 'Hellinger', 'χ2']\n",
        "table['KPCA'] = ['0.02', '0.05', '0.18', '0.01', '0.18']\n",
        "table['SVDD'] = ['0.09', '0.07', '0.01', '0.02', '0.00']\n",
        "table['OCSVM'] = ['0.01', '0.14', '0.04', '0.02', '0.02']\n",
        "table['OCSSVM'] = ['0.07', '0.09', '0.26', '0.13', '0.18']\n",
        "table['OCSSVM with SMO'] = ['0.04', '0.04', '0.22', '0.10', '0.17']\n",
        "table['MS_SVM'] = acc_array\n",
        "table"
      ],
      "execution_count": 22,
      "outputs": [
        {
          "output_type": "execute_result",
          "data": {
            "text/html": [
              "<div>\n",
              "<style scoped>\n",
              "    .dataframe tbody tr th:only-of-type {\n",
              "        vertical-align: middle;\n",
              "    }\n",
              "\n",
              "    .dataframe tbody tr th {\n",
              "        vertical-align: top;\n",
              "    }\n",
              "\n",
              "    .dataframe thead th {\n",
              "        text-align: right;\n",
              "    }\n",
              "</style>\n",
              "<table border=\"1\" class=\"dataframe\">\n",
              "  <thead>\n",
              "    <tr style=\"text-align: right;\">\n",
              "      <th></th>\n",
              "      <th>Kernel</th>\n",
              "      <th>KPCA</th>\n",
              "      <th>SVDD</th>\n",
              "      <th>OCSVM</th>\n",
              "      <th>OCSSVM</th>\n",
              "      <th>OCSSVM with SMO</th>\n",
              "      <th>MS_SVM</th>\n",
              "    </tr>\n",
              "  </thead>\n",
              "  <tbody>\n",
              "    <tr>\n",
              "      <th>0</th>\n",
              "      <td>Linear</td>\n",
              "      <td>0.02</td>\n",
              "      <td>0.09</td>\n",
              "      <td>0.01</td>\n",
              "      <td>0.07</td>\n",
              "      <td>0.04</td>\n",
              "      <td>0.16</td>\n",
              "    </tr>\n",
              "    <tr>\n",
              "      <th>1</th>\n",
              "      <td>RBF</td>\n",
              "      <td>0.05</td>\n",
              "      <td>0.07</td>\n",
              "      <td>0.14</td>\n",
              "      <td>0.09</td>\n",
              "      <td>0.04</td>\n",
              "      <td>0.08</td>\n",
              "    </tr>\n",
              "    <tr>\n",
              "      <th>2</th>\n",
              "      <td>Intersection</td>\n",
              "      <td>0.18</td>\n",
              "      <td>0.01</td>\n",
              "      <td>0.04</td>\n",
              "      <td>0.26</td>\n",
              "      <td>0.22</td>\n",
              "      <td>0.11</td>\n",
              "    </tr>\n",
              "    <tr>\n",
              "      <th>3</th>\n",
              "      <td>Hellinger</td>\n",
              "      <td>0.01</td>\n",
              "      <td>0.02</td>\n",
              "      <td>0.02</td>\n",
              "      <td>0.13</td>\n",
              "      <td>0.10</td>\n",
              "      <td>0.13</td>\n",
              "    </tr>\n",
              "    <tr>\n",
              "      <th>4</th>\n",
              "      <td>χ2</td>\n",
              "      <td>0.18</td>\n",
              "      <td>0.00</td>\n",
              "      <td>0.02</td>\n",
              "      <td>0.18</td>\n",
              "      <td>0.17</td>\n",
              "      <td>NaN</td>\n",
              "    </tr>\n",
              "  </tbody>\n",
              "</table>\n",
              "</div>"
            ],
            "text/plain": [
              "         Kernel  KPCA  SVDD OCSVM OCSSVM OCSSVM with SMO MS_SVM\n",
              "0        Linear  0.02  0.09  0.01   0.07            0.04   0.16\n",
              "1           RBF  0.05  0.07  0.14   0.09            0.04   0.08\n",
              "2  Intersection  0.18  0.01  0.04   0.26            0.22   0.11\n",
              "3     Hellinger  0.01  0.02  0.02   0.13            0.10   0.13\n",
              "4            χ2  0.18  0.00  0.02   0.18            0.17    NaN"
            ]
          },
          "metadata": {
            "tags": []
          },
          "execution_count": 22
        }
      ]
    },
    {
      "cell_type": "code",
      "metadata": {
        "colab": {
          "base_uri": "https://localhost:8080/",
          "height": 943
        },
        "id": "AGNRS19XftPJ",
        "outputId": "6523461a-be2c-49a3-f4b5-138e2bb2d5ec"
      },
      "source": [
        "from sklearn.metrics import confusion_matrix\n",
        "\n",
        "plt.subplots(figsize=(25,25))\n",
        "\n",
        "plt.subplot(3,2,1)\n",
        "cf_matrix = confusion_matrix(Y_test, predicted_linear)\n",
        "plt.title('Linear Kernel')\n",
        "sns.heatmap(cf_matrix, cbar=False)\n",
        "\n",
        "plt.subplot(3,2,2)\n",
        "cf_matrix = confusion_matrix(Y_test, predicted_rbf)\n",
        "plt.title('RBF Kernel')\n",
        "sns.heatmap(cf_matrix, cbar=False)\n",
        "\n",
        "plt.subplot(3,2,3)\n",
        "cf_matrix = confusion_matrix(Y_test, predicted_intersection)\n",
        "plt.title('Intersection Kernel')\n",
        "sns.heatmap(cf_matrix, cbar=False)\n",
        "\n",
        "plt.subplot(3,2,4)\n",
        "cf_matrix = confusion_matrix(Y_test, predicted_hellinger)\n",
        "plt.title('Hellinger Kernel')\n",
        "sns.heatmap(cf_matrix, cbar=False)\n",
        "\n",
        "'''\n",
        "plt.subplot(3,2,5)\n",
        "cf_matrix = confusion_matrix(Y_test, predicted_chi2)\n",
        "plt.title('Chi^2 Kernel')\n",
        "sns.heatmap(cf_matrix, cbar=False)\n",
        "'''\n",
        "\n",
        "plt.show()"
      ],
      "execution_count": 23,
      "outputs": [
        {
          "output_type": "display_data",
          "data": {
            "image/png": "[encoded data removed]",
            "text/plain": [
              "<Figure size 1800x1800 with 4 Axes>"
            ]
          },
          "metadata": {
            "tags": [],
            "needs_background": "light"
          }
        }
      ]
    },
    {
      "cell_type": "code",
      "metadata": {
        "id": "SQ75ZLmnfxz4"
      },
      "source": [
        ""
      ],
      "execution_count": 23,
      "outputs": []
    }
  ]
}