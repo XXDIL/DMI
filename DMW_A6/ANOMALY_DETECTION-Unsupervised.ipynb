{
 "cells": [
  {
   "cell_type": "code",
   "execution_count": 1,
   "id": "focused-currency",
   "metadata": {},
   "outputs": [],
   "source": [
    "import torch\n",
    "import numpy as np\n",
    "import torch.nn as nn\n",
    "import torch.nn.functional as F\n",
    "from torch.utils import data\n",
    "from torch.utils.data import DataLoader\n",
    "from torchvision import datasets, transforms\n",
    "from PIL import Image\n",
    "from torch import optim\n",
    "from barbar import Bar\n",
    "from tqdm import tqdm\n",
    "from sklearn.metrics import roc_auc_score\n",
    "import pickle\n",
    "from NN import network,LeNet\n",
    "import pandas as pd\n",
    "import numpy as np\n",
    "import pylab \n",
    "from sklearn.svm import OneClassSVM\n",
    "from sklearn.covariance import EllipticEnvelope\n",
    "from IPython import display"
   ]
  },
  {
   "cell_type": "markdown",
   "id": "comparative-senator",
   "metadata": {},
   "source": [
    "# DEEP SVDD For Multivariate"
   ]
  },
  {
   "cell_type": "code",
   "execution_count": 2,
   "id": "instructional-encounter",
   "metadata": {},
   "outputs": [
    {
     "ename": "FileNotFoundError",
     "evalue": "No such file or directory: './load.jpeg'",
     "output_type": "error",
     "traceback": [
      "\u001b[0;31m---------------------------------------------------------------------------\u001b[0m",
      "\u001b[0;31mTypeError\u001b[0m                                 Traceback (most recent call last)",
      "\u001b[0;32m~/anaconda3/lib/python3.8/site-packages/IPython/core/display.py\u001b[0m in \u001b[0;36m_data_and_metadata\u001b[0;34m(self, always_both)\u001b[0m\n\u001b[1;32m   1292\u001b[0m         \u001b[0;32mtry\u001b[0m\u001b[0;34m:\u001b[0m\u001b[0;34m\u001b[0m\u001b[0;34m\u001b[0m\u001b[0m\n\u001b[0;32m-> 1293\u001b[0;31m             \u001b[0mb64_data\u001b[0m \u001b[0;34m=\u001b[0m \u001b[0mb2a_base64\u001b[0m\u001b[0;34m(\u001b[0m\u001b[0mself\u001b[0m\u001b[0;34m.\u001b[0m\u001b[0mdata\u001b[0m\u001b[0;34m)\u001b[0m\u001b[0;34m.\u001b[0m\u001b[0mdecode\u001b[0m\u001b[0;34m(\u001b[0m\u001b[0;34m'ascii'\u001b[0m\u001b[0;34m)\u001b[0m\u001b[0;34m\u001b[0m\u001b[0;34m\u001b[0m\u001b[0m\n\u001b[0m\u001b[1;32m   1294\u001b[0m         \u001b[0;32mexcept\u001b[0m \u001b[0mTypeError\u001b[0m\u001b[0;34m:\u001b[0m\u001b[0;34m\u001b[0m\u001b[0;34m\u001b[0m\u001b[0m\n",
      "\u001b[0;31mTypeError\u001b[0m: a bytes-like object is required, not 'str'",
      "\nDuring handling of the above exception, another exception occurred:\n",
      "\u001b[0;31mFileNotFoundError\u001b[0m                         Traceback (most recent call last)",
      "\u001b[0;32m~/anaconda3/lib/python3.8/site-packages/IPython/core/formatters.py\u001b[0m in \u001b[0;36m__call__\u001b[0;34m(self, obj, include, exclude)\u001b[0m\n\u001b[1;32m    968\u001b[0m \u001b[0;34m\u001b[0m\u001b[0m\n\u001b[1;32m    969\u001b[0m             \u001b[0;32mif\u001b[0m \u001b[0mmethod\u001b[0m \u001b[0;32mis\u001b[0m \u001b[0;32mnot\u001b[0m \u001b[0;32mNone\u001b[0m\u001b[0;34m:\u001b[0m\u001b[0;34m\u001b[0m\u001b[0;34m\u001b[0m\u001b[0m\n\u001b[0;32m--> 970\u001b[0;31m                 \u001b[0;32mreturn\u001b[0m \u001b[0mmethod\u001b[0m\u001b[0;34m(\u001b[0m\u001b[0minclude\u001b[0m\u001b[0;34m=\u001b[0m\u001b[0minclude\u001b[0m\u001b[0;34m,\u001b[0m \u001b[0mexclude\u001b[0m\u001b[0;34m=\u001b[0m\u001b[0mexclude\u001b[0m\u001b[0;34m)\u001b[0m\u001b[0;34m\u001b[0m\u001b[0;34m\u001b[0m\u001b[0m\n\u001b[0m\u001b[1;32m    971\u001b[0m             \u001b[0;32mreturn\u001b[0m \u001b[0;32mNone\u001b[0m\u001b[0;34m\u001b[0m\u001b[0;34m\u001b[0m\u001b[0m\n\u001b[1;32m    972\u001b[0m         \u001b[0;32melse\u001b[0m\u001b[0;34m:\u001b[0m\u001b[0;34m\u001b[0m\u001b[0;34m\u001b[0m\u001b[0m\n",
      "\u001b[0;32m~/anaconda3/lib/python3.8/site-packages/IPython/core/display.py\u001b[0m in \u001b[0;36m_repr_mimebundle_\u001b[0;34m(self, include, exclude)\u001b[0m\n\u001b[1;32m   1281\u001b[0m         \u001b[0;32mif\u001b[0m \u001b[0mself\u001b[0m\u001b[0;34m.\u001b[0m\u001b[0membed\u001b[0m\u001b[0;34m:\u001b[0m\u001b[0;34m\u001b[0m\u001b[0;34m\u001b[0m\u001b[0m\n\u001b[1;32m   1282\u001b[0m             \u001b[0mmimetype\u001b[0m \u001b[0;34m=\u001b[0m \u001b[0mself\u001b[0m\u001b[0;34m.\u001b[0m\u001b[0m_mimetype\u001b[0m\u001b[0;34m\u001b[0m\u001b[0;34m\u001b[0m\u001b[0m\n\u001b[0;32m-> 1283\u001b[0;31m             \u001b[0mdata\u001b[0m\u001b[0;34m,\u001b[0m \u001b[0mmetadata\u001b[0m \u001b[0;34m=\u001b[0m \u001b[0mself\u001b[0m\u001b[0;34m.\u001b[0m\u001b[0m_data_and_metadata\u001b[0m\u001b[0;34m(\u001b[0m\u001b[0malways_both\u001b[0m\u001b[0;34m=\u001b[0m\u001b[0;32mTrue\u001b[0m\u001b[0;34m)\u001b[0m\u001b[0;34m\u001b[0m\u001b[0;34m\u001b[0m\u001b[0m\n\u001b[0m\u001b[1;32m   1284\u001b[0m             \u001b[0;32mif\u001b[0m \u001b[0mmetadata\u001b[0m\u001b[0;34m:\u001b[0m\u001b[0;34m\u001b[0m\u001b[0;34m\u001b[0m\u001b[0m\n\u001b[1;32m   1285\u001b[0m                 \u001b[0mmetadata\u001b[0m \u001b[0;34m=\u001b[0m \u001b[0;34m{\u001b[0m\u001b[0mmimetype\u001b[0m\u001b[0;34m:\u001b[0m \u001b[0mmetadata\u001b[0m\u001b[0;34m}\u001b[0m\u001b[0;34m\u001b[0m\u001b[0;34m\u001b[0m\u001b[0m\n",
      "\u001b[0;32m~/anaconda3/lib/python3.8/site-packages/IPython/core/display.py\u001b[0m in \u001b[0;36m_data_and_metadata\u001b[0;34m(self, always_both)\u001b[0m\n\u001b[1;32m   1293\u001b[0m             \u001b[0mb64_data\u001b[0m \u001b[0;34m=\u001b[0m \u001b[0mb2a_base64\u001b[0m\u001b[0;34m(\u001b[0m\u001b[0mself\u001b[0m\u001b[0;34m.\u001b[0m\u001b[0mdata\u001b[0m\u001b[0;34m)\u001b[0m\u001b[0;34m.\u001b[0m\u001b[0mdecode\u001b[0m\u001b[0;34m(\u001b[0m\u001b[0;34m'ascii'\u001b[0m\u001b[0;34m)\u001b[0m\u001b[0;34m\u001b[0m\u001b[0;34m\u001b[0m\u001b[0m\n\u001b[1;32m   1294\u001b[0m         \u001b[0;32mexcept\u001b[0m \u001b[0mTypeError\u001b[0m\u001b[0;34m:\u001b[0m\u001b[0;34m\u001b[0m\u001b[0;34m\u001b[0m\u001b[0m\n\u001b[0;32m-> 1295\u001b[0;31m             raise FileNotFoundError(\n\u001b[0m\u001b[1;32m   1296\u001b[0m                 \"No such file or directory: '%s'\" % (self.data))\n\u001b[1;32m   1297\u001b[0m         \u001b[0mmd\u001b[0m \u001b[0;34m=\u001b[0m \u001b[0;34m{\u001b[0m\u001b[0;34m}\u001b[0m\u001b[0;34m\u001b[0m\u001b[0;34m\u001b[0m\u001b[0m\n",
      "\u001b[0;31mFileNotFoundError\u001b[0m: No such file or directory: './load.jpeg'"
     ]
    },
    {
     "ename": "FileNotFoundError",
     "evalue": "No such file or directory: './load.jpeg'",
     "output_type": "error",
     "traceback": [
      "\u001b[0;31m---------------------------------------------------------------------------\u001b[0m",
      "\u001b[0;31mTypeError\u001b[0m                                 Traceback (most recent call last)",
      "\u001b[0;32m~/anaconda3/lib/python3.8/site-packages/IPython/core/display.py\u001b[0m in \u001b[0;36m_data_and_metadata\u001b[0;34m(self, always_both)\u001b[0m\n\u001b[1;32m   1292\u001b[0m         \u001b[0;32mtry\u001b[0m\u001b[0;34m:\u001b[0m\u001b[0;34m\u001b[0m\u001b[0;34m\u001b[0m\u001b[0m\n\u001b[0;32m-> 1293\u001b[0;31m             \u001b[0mb64_data\u001b[0m \u001b[0;34m=\u001b[0m \u001b[0mb2a_base64\u001b[0m\u001b[0;34m(\u001b[0m\u001b[0mself\u001b[0m\u001b[0;34m.\u001b[0m\u001b[0mdata\u001b[0m\u001b[0;34m)\u001b[0m\u001b[0;34m.\u001b[0m\u001b[0mdecode\u001b[0m\u001b[0;34m(\u001b[0m\u001b[0;34m'ascii'\u001b[0m\u001b[0;34m)\u001b[0m\u001b[0;34m\u001b[0m\u001b[0;34m\u001b[0m\u001b[0m\n\u001b[0m\u001b[1;32m   1294\u001b[0m         \u001b[0;32mexcept\u001b[0m \u001b[0mTypeError\u001b[0m\u001b[0;34m:\u001b[0m\u001b[0;34m\u001b[0m\u001b[0;34m\u001b[0m\u001b[0m\n",
      "\u001b[0;31mTypeError\u001b[0m: a bytes-like object is required, not 'str'",
      "\nDuring handling of the above exception, another exception occurred:\n",
      "\u001b[0;31mFileNotFoundError\u001b[0m                         Traceback (most recent call last)",
      "\u001b[0;32m~/anaconda3/lib/python3.8/site-packages/IPython/core/formatters.py\u001b[0m in \u001b[0;36m__call__\u001b[0;34m(self, obj)\u001b[0m\n\u001b[1;32m    343\u001b[0m             \u001b[0mmethod\u001b[0m \u001b[0;34m=\u001b[0m \u001b[0mget_real_method\u001b[0m\u001b[0;34m(\u001b[0m\u001b[0mobj\u001b[0m\u001b[0;34m,\u001b[0m \u001b[0mself\u001b[0m\u001b[0;34m.\u001b[0m\u001b[0mprint_method\u001b[0m\u001b[0;34m)\u001b[0m\u001b[0;34m\u001b[0m\u001b[0;34m\u001b[0m\u001b[0m\n\u001b[1;32m    344\u001b[0m             \u001b[0;32mif\u001b[0m \u001b[0mmethod\u001b[0m \u001b[0;32mis\u001b[0m \u001b[0;32mnot\u001b[0m \u001b[0;32mNone\u001b[0m\u001b[0;34m:\u001b[0m\u001b[0;34m\u001b[0m\u001b[0;34m\u001b[0m\u001b[0m\n\u001b[0;32m--> 345\u001b[0;31m                 \u001b[0;32mreturn\u001b[0m \u001b[0mmethod\u001b[0m\u001b[0;34m(\u001b[0m\u001b[0;34m)\u001b[0m\u001b[0;34m\u001b[0m\u001b[0;34m\u001b[0m\u001b[0m\n\u001b[0m\u001b[1;32m    346\u001b[0m             \u001b[0;32mreturn\u001b[0m \u001b[0;32mNone\u001b[0m\u001b[0;34m\u001b[0m\u001b[0;34m\u001b[0m\u001b[0m\n\u001b[1;32m    347\u001b[0m         \u001b[0;32melse\u001b[0m\u001b[0;34m:\u001b[0m\u001b[0;34m\u001b[0m\u001b[0;34m\u001b[0m\u001b[0m\n",
      "\u001b[0;32m~/anaconda3/lib/python3.8/site-packages/IPython/core/display.py\u001b[0m in \u001b[0;36m_repr_png_\u001b[0;34m(self)\u001b[0m\n\u001b[1;32m   1311\u001b[0m     \u001b[0;32mdef\u001b[0m \u001b[0m_repr_png_\u001b[0m\u001b[0;34m(\u001b[0m\u001b[0mself\u001b[0m\u001b[0;34m)\u001b[0m\u001b[0;34m:\u001b[0m\u001b[0;34m\u001b[0m\u001b[0;34m\u001b[0m\u001b[0m\n\u001b[1;32m   1312\u001b[0m         \u001b[0;32mif\u001b[0m \u001b[0mself\u001b[0m\u001b[0;34m.\u001b[0m\u001b[0membed\u001b[0m \u001b[0;32mand\u001b[0m \u001b[0mself\u001b[0m\u001b[0;34m.\u001b[0m\u001b[0mformat\u001b[0m \u001b[0;34m==\u001b[0m \u001b[0mself\u001b[0m\u001b[0;34m.\u001b[0m\u001b[0m_FMT_PNG\u001b[0m\u001b[0;34m:\u001b[0m\u001b[0;34m\u001b[0m\u001b[0;34m\u001b[0m\u001b[0m\n\u001b[0;32m-> 1313\u001b[0;31m             \u001b[0;32mreturn\u001b[0m \u001b[0mself\u001b[0m\u001b[0;34m.\u001b[0m\u001b[0m_data_and_metadata\u001b[0m\u001b[0;34m(\u001b[0m\u001b[0;34m)\u001b[0m\u001b[0;34m\u001b[0m\u001b[0;34m\u001b[0m\u001b[0m\n\u001b[0m\u001b[1;32m   1314\u001b[0m \u001b[0;34m\u001b[0m\u001b[0m\n\u001b[1;32m   1315\u001b[0m     \u001b[0;32mdef\u001b[0m \u001b[0m_repr_jpeg_\u001b[0m\u001b[0;34m(\u001b[0m\u001b[0mself\u001b[0m\u001b[0;34m)\u001b[0m\u001b[0;34m:\u001b[0m\u001b[0;34m\u001b[0m\u001b[0;34m\u001b[0m\u001b[0m\n",
      "\u001b[0;32m~/anaconda3/lib/python3.8/site-packages/IPython/core/display.py\u001b[0m in \u001b[0;36m_data_and_metadata\u001b[0;34m(self, always_both)\u001b[0m\n\u001b[1;32m   1293\u001b[0m             \u001b[0mb64_data\u001b[0m \u001b[0;34m=\u001b[0m \u001b[0mb2a_base64\u001b[0m\u001b[0;34m(\u001b[0m\u001b[0mself\u001b[0m\u001b[0;34m.\u001b[0m\u001b[0mdata\u001b[0m\u001b[0;34m)\u001b[0m\u001b[0;34m.\u001b[0m\u001b[0mdecode\u001b[0m\u001b[0;34m(\u001b[0m\u001b[0;34m'ascii'\u001b[0m\u001b[0;34m)\u001b[0m\u001b[0;34m\u001b[0m\u001b[0;34m\u001b[0m\u001b[0m\n\u001b[1;32m   1294\u001b[0m         \u001b[0;32mexcept\u001b[0m \u001b[0mTypeError\u001b[0m\u001b[0;34m:\u001b[0m\u001b[0;34m\u001b[0m\u001b[0;34m\u001b[0m\u001b[0m\n\u001b[0;32m-> 1295\u001b[0;31m             raise FileNotFoundError(\n\u001b[0m\u001b[1;32m   1296\u001b[0m                 \"No such file or directory: '%s'\" % (self.data))\n\u001b[1;32m   1297\u001b[0m         \u001b[0mmd\u001b[0m \u001b[0;34m=\u001b[0m \u001b[0;34m{\u001b[0m\u001b[0;34m}\u001b[0m\u001b[0;34m\u001b[0m\u001b[0;34m\u001b[0m\u001b[0m\n",
      "\u001b[0;31mFileNotFoundError\u001b[0m: No such file or directory: './load.jpeg'"
     ]
    },
    {
     "data": {
      "text/plain": [
       "<IPython.core.display.Image object>"
      ]
     },
     "execution_count": 2,
     "metadata": {},
     "output_type": "execute_result"
    }
   ],
   "source": [
    "display.Image(\"./load.jpeg\")"
   ]
  },
  {
   "cell_type": "code",
   "execution_count": 3,
   "id": "stock-paintball",
   "metadata": {},
   "outputs": [],
   "source": [
    "def weights_init_normal(m):\n",
    "    classname = m.__class__.__name__\n",
    "    if classname.find(\"Conv\") != -1 and classname != 'Conv':\n",
    "        torch.nn.init.normal_(m.weight.data, 0.0, 0.02)\n",
    "    elif classname.find(\"Linear\") != -1:\n",
    "        torch.nn.init.normal_(m.weight.data, 0.0, 0.02)\n",
    "\n",
    "\n",
    "def global_contrast_normalization(x):\n",
    "    mean = torch.mean(x)\n",
    "    x -= mean\n",
    "    x_scale = torch.mean(torch.abs(x))\n",
    "    x /= x_scale\n",
    "    return x"
   ]
  },
  {
   "cell_type": "code",
   "execution_count": 4,
   "id": "designed-physics",
   "metadata": {},
   "outputs": [],
   "source": [
    "class MNIST_loader(data.Dataset):\n",
    "    def __init__(self, data, target, transform):\n",
    "        self.data = data\n",
    "        self.target = target\n",
    "        self.transform = transform\n",
    "\n",
    "    def __getitem__(self, index):\n",
    "        x = self.data[index]\n",
    "        y = self.target[index]\n",
    "        if self.transform:\n",
    "            x = Image.fromarray(x.numpy(), mode='L')\n",
    "            x = self.transform(x)\n",
    "        return x, y\n",
    "\n",
    "    def __len__(self):\n",
    "        return len(self.data)\n",
    "\n",
    "def get_mnist_after(args, training_data, training_label, testing_data, testing_label):\n",
    "    min_max = [(-0.8826567065619495, 9.001545489292527),\n",
    "                (-0.6661464580883915, 20.108062262467364),\n",
    "                (-0.7820454743183202, 11.665100841080346),\n",
    "                (-0.7645772083211267, 12.895051191467457),\n",
    "                (-0.7253923114302238, 12.683235701611533),\n",
    "                (-0.7698501867861425, 13.103278415430502),\n",
    "                (-0.778418217980696, 10.457837397569108),\n",
    "                (-0.7129780970522351, 12.057777597673047),\n",
    "                (-0.8280402650205075, 10.581538445782988),\n",
    "                (-0.7369959242164307, 10.697039838804978)]\n",
    "\n",
    "    transform = transforms.Compose([transforms.ToTensor(),\n",
    "                                  transforms.Normalize([min_max[args.normal_class][0]],\n",
    "                                                        [min_max[args.normal_class][1] \\\n",
    "                                                        -min_max[args.normal_class][0]])])\n",
    "    data_train = MNIST_loader(training_data, training_label, transform)\n",
    "    dataloader_train = DataLoader(data_train, batch_size=args.batch_size, \n",
    "                                shuffle=True, num_workers=0)\n",
    "    data_test = MNIST_loader(testing_data, testing_label, transform)\n",
    "    dataloader_test = DataLoader(data_test, batch_size=args.batch_size, \n",
    "                                shuffle=True, num_workers=0)\n",
    "    return dataloader_train, dataloader_test"
   ]
  },
  {
   "cell_type": "code",
   "execution_count": 5,
   "id": "meaningful-trial",
   "metadata": {},
   "outputs": [],
   "source": [
    "class DeepSvdd:\n",
    "    def __init__(self, args, data, device):\n",
    "        self.args = args\n",
    "        self.train_loader, self.test_loader = data\n",
    "        self.device = device\n",
    "    \n",
    "\n",
    "    def pretrain(self):\n",
    "        ae = LeNet(self.args.latent_dim).to(self.device)\n",
    "        ae.apply(weights_init_normal)\n",
    "        optimizer = optim.Adam(ae.parameters(), lr=self.args.lr_ae,\n",
    "                               weight_decay=self.args.weight_decay_ae)\n",
    "        scheduler = optim.lr_scheduler.MultiStepLR(optimizer, \n",
    "                    milestones=self.args.lr_milestones, gamma=0.1)\n",
    "        \n",
    "        ae.train()\n",
    "        for epoch in tqdm(range(self.args.num_epochs_ae)):\n",
    "            total_loss = 0\n",
    "            #HerePlease\n",
    "            for x, _ in (self.train_loader):\n",
    "                x = x.float().to(self.device)\n",
    "                \n",
    "                optimizer.zero_grad()\n",
    "                x_hat = ae(x)\n",
    "                reconst_loss = torch.mean(torch.sum((x_hat - x) ** 2, dim=tuple(range(1, x_hat.dim()))))\n",
    "                \n",
    "                reconst_loss.backward()\n",
    "                optimizer.step()\n",
    "                \n",
    "                total_loss += reconst_loss.item()\n",
    "            scheduler.step()\n",
    "            '''print('Pretraining Autoencoder... Epoch: {}, Loss: {:.3f}'.format(\n",
    "                   epoch, total_loss/len(self.train_loader)))'''\n",
    "        self.save_weights_for_DeepSVDD(ae, self.train_loader) \n",
    "    \n",
    "\n",
    "    def save_weights_for_DeepSVDD(self, model, dataloader):\n",
    "        c = self.set_c(model, dataloader)\n",
    "        net = network(self.args.latent_dim).to(self.device)\n",
    "        state_dict = model.state_dict()\n",
    "        net.load_state_dict(state_dict, strict=False)\n",
    "        torch.save({'center': c.cpu().data.numpy().tolist(),\n",
    "                    'net_dict': net.state_dict()}, './pretrained_parameters.pth')\n",
    "    \n",
    "\n",
    "    def set_c(self, model, dataloader, eps=0.1):\n",
    "        model.eval()\n",
    "        z_ = []\n",
    "        with torch.no_grad():\n",
    "            for x, _ in dataloader:\n",
    "                x = x.float().to(self.device)\n",
    "                z = model.place_net(x)\n",
    "                z_.append(z.detach())\n",
    "        z_ = torch.cat(z_)\n",
    "        c = torch.mean(z_, dim=0)\n",
    "        c[(abs(c) < eps) & (c < 0)] = -eps\n",
    "        c[(abs(c) < eps) & (c > 0)] = eps\n",
    "        return c\n",
    "\n",
    "\n",
    "    def train(self):\n",
    "        net = network().to(self.device)\n",
    "        \n",
    "        if self.args.pretrain==True:\n",
    "            state_dict = torch.load('./pretrained_parameters.pth')\n",
    "            net.load_state_dict(state_dict['net_dict'])\n",
    "            c = torch.Tensor(state_dict['center']).to(self.device)\n",
    "        else:\n",
    "            net.apply(weights_init_normal)\n",
    "            c = torch.randn(self.args.latent_dim).to(self.device)\n",
    "        \n",
    "        optimizer = optim.Adam(net.parameters(), lr=self.args.lr,\n",
    "                               weight_decay=self.args.weight_decay)\n",
    "        scheduler = optim.lr_scheduler.MultiStepLR(optimizer, \n",
    "                    milestones=self.args.lr_milestones, gamma=0.1)\n",
    "\n",
    "        net.train()\n",
    "        for epoch in tqdm(range(self.args.num_epochs)):\n",
    "            total_loss = 0\n",
    "            for x, _ in (self.train_loader):\n",
    "                x = x.float().to(self.device)\n",
    "\n",
    "                optimizer.zero_grad()\n",
    "                z = net(x)\n",
    "                loss = torch.mean(torch.sum((z - c) ** 2, dim=1))\n",
    "                loss.backward()\n",
    "                optimizer.step()\n",
    "\n",
    "                total_loss += loss.item()\n",
    "            scheduler.step()\n",
    "            '''print('Training Deep SVDD... Epoch: {}, Loss: {:.3f}'.format(\n",
    "                   epoch, total_loss/len(self.train_loader)))'''\n",
    "        self.net = net\n",
    "        self.c = c"
   ]
  },
  {
   "cell_type": "code",
   "execution_count": 6,
   "id": "aerial-doubt",
   "metadata": {},
   "outputs": [],
   "source": [
    "def eval(net, c, dataloader, device):\n",
    "    scores = []\n",
    "    labels = []\n",
    "    net.eval()\n",
    "    #print('Testing...')\n",
    "    with torch.no_grad():\n",
    "        for x, y in dataloader:\n",
    "            x = x.float().to(device)\n",
    "            z = net(x)\n",
    "            score = torch.sum((z - c) ** 2, dim=1)\n",
    "\n",
    "            scores.append(score.detach().cpu())\n",
    "            labels.append(y.cpu())\n",
    "    labels, scores = torch.cat(labels).numpy(), torch.cat(scores).numpy()\n",
    "    #print('ROC AUC score: {:.2f}'.format(roc_auc_score(labels, scores)*100))\n",
    "    return labels, scores"
   ]
  },
  {
   "cell_type": "code",
   "execution_count": 7,
   "id": "cordless-pasta",
   "metadata": {},
   "outputs": [],
   "source": [
    "class Args:\n",
    "    def __init__(self, nclass):\n",
    "        self.num_epochs=20\n",
    "        self.num_epochs_ae=20\n",
    "        self.patience=50\n",
    "        self.lr=1e-4\n",
    "        self.weight_decay=0.5e-6\n",
    "        self.weight_decay_ae=0.5e-3\n",
    "        self.lr_ae=1e-4\n",
    "        self.lr_milestones=[50]\n",
    "        self.batch_size=200\n",
    "        self.pretrain=True\n",
    "        self.latent_dim=32\n",
    "        self.normal_class=nclass"
   ]
  },
  {
   "cell_type": "code",
   "execution_count": 8,
   "id": "needed-vienna",
   "metadata": {},
   "outputs": [],
   "source": [
    "with open('./Dataset_pickel/X_train.pickle', 'rb') as f:\n",
    "    training_data= pickle.load(f)\n",
    "with open('./Dataset_pickel/y_train.pickle', 'rb') as f:\n",
    "    training_label= pickle.load(f)\n",
    "with open('./Dataset_pickel/X_test.pickle', 'rb') as f:\n",
    "    testing_data= pickle.load(f)\n",
    "with open('./Dataset_pickel/y_test.pickle', 'rb') as f:\n",
    "    testing_label= pickle.load(f)"
   ]
  },
  {
   "cell_type": "code",
   "execution_count": 9,
   "id": "julian-crown",
   "metadata": {},
   "outputs": [],
   "source": [
    "N_classes=2"
   ]
  },
  {
   "cell_type": "code",
   "execution_count": 10,
   "id": "dominant-joining",
   "metadata": {},
   "outputs": [
    {
     "name": "stdout",
     "output_type": "stream",
     "text": [
      "Class  0\n"
     ]
    },
    {
     "name": "stderr",
     "output_type": "stream",
     "text": [
      "100%|██████████| 20/20 [00:39<00:00,  1.97s/it]\n",
      "100%|██████████| 20/20 [00:26<00:00,  1.31s/it]\n",
      "  0%|          | 0/20 [00:00<?, ?it/s]"
     ]
    },
    {
     "name": "stdout",
     "output_type": "stream",
     "text": [
      "Class  1\n"
     ]
    },
    {
     "name": "stderr",
     "output_type": "stream",
     "text": [
      "100%|██████████| 20/20 [00:39<00:00,  1.98s/it]\n",
      "100%|██████████| 20/20 [00:25<00:00,  1.29s/it]\n"
     ]
    }
   ],
   "source": [
    "import matplotlib.pyplot as plt\n",
    "import pandas as pd\n",
    "nscores=[]\n",
    "inscores=[]\n",
    "outscores=[] \n",
    "for i in range(N_classes):\n",
    "    print(\"Class \",i)\n",
    "    args = Args(i)\n",
    "    device = torch.device('cuda' if torch.cuda.is_available() else 'cpu')\n",
    "    data = get_mnist_after(args, training_data, training_label, testing_data, testing_label)\n",
    "    deep_SVDD = DeepSvdd(args, data, device)\n",
    "    if args.pretrain:\n",
    "        deep_SVDD.pretrain()\n",
    "    deep_SVDD.train()\n",
    "    '''print(\"test for class  \",i,\".....\")'''\n",
    "    labels, scores = eval(deep_SVDD.net, deep_SVDD.c, data[1], device)\n",
    "    nscores.append(roc_auc_score(labels, scores)*100)\n",
    "    inscores.append(scores[np.where(labels==0)[0]])\n",
    "    outscores.append(scores[np.where(labels==1)[0]])"
   ]
  },
  {
   "cell_type": "code",
   "execution_count": 11,
   "id": "clinical-potato",
   "metadata": {},
   "outputs": [
    {
     "data": {
      "image/png": "[encoded data removed]",
      "text/plain": [
       "<Figure size 432x288 with 1 Axes>"
      ]
     },
     "metadata": {
      "needs_background": "light"
     },
     "output_type": "display_data"
    },
    {
     "data": {
      "image/png": "[encoded data removed]",
      "text/plain": [
       "<Figure size 432x288 with 1 Axes>"
      ]
     },
     "metadata": {
      "needs_background": "light"
     },
     "output_type": "display_data"
    }
   ],
   "source": [
    "import matplotlib.pyplot as plt\n",
    "import pandas as pd \n",
    "for i in range(N_classes):\n",
    "    in_ = pd.DataFrame(inscores[i], columns=['Inlier'])\n",
    "    out_ = pd.DataFrame(outscores[i], columns=['Outlier'])\n",
    "    fig, ax = plt.subplots()\n",
    "    in_.plot.kde(ax=ax, legend=True, title='Outliers vs Inliers for class '+str(i))\n",
    "    out_.plot.kde(ax=ax, legend=True)\n",
    "    plt.xlim(-0.05, 0.08)\n",
    "    ax.grid(axis='x')\n",
    "    ax.grid(axis='y')\n",
    "    plt.show()"
   ]
  }
 ],
 "metadata": {
  "kernelspec": {
   "display_name": "Python 3",
   "language": "python",
   "name": "python3"
  },
  "language_info": {
   "codemirror_mode": {
    "name": "ipython",
    "version": 3
   },
   "file_extension": ".py",
   "mimetype": "text/x-python",
   "name": "python",
   "nbconvert_exporter": "python",
   "pygments_lexer": "ipython3",
   "version": "3.8.3"
  }
 },
 "nbformat": 4,
 "nbformat_minor": 5
}
