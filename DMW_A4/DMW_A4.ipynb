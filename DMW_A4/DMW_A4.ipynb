{
 "cells": [
  {
   "cell_type": "markdown",
   "id": "directed-powell",
   "metadata": {},
   "source": [
    "# DMW_A4\n",
    "\n",
    "## A One-Class Classification decision Tree based on kernel density estimation\n",
    "\n",
    "------\n",
    "\n",
    "## Group members:\n",
    "\n",
    "IIT2018176 (Milan Bhuva)\n",
    "\n",
    "IIT2018178 (Manav Agrawal)\n",
    "\n",
    "IIT2018179 (Mohammed Aadil)\n",
    "\n",
    "IIT2018202 (Ankit Rauniyar)\n",
    "\n",
    "------\n",
    "\n",
    "### Imporing the Libraries"
   ]
  },
  {
   "cell_type": "code",
   "execution_count": 1,
   "id": "appropriate-horror",
   "metadata": {},
   "outputs": [],
   "source": [
    "import matplotlib.pyplot as plt\n",
    "import numpy as np\n",
    "import pandas as pd\n",
    "from sklearn.model_selection import train_test_split\n",
    "from sklearn.svm import OneClassSVM\n",
    "from sklearn.metrics import accuracy_score, precision_score, recall_score, roc_auc_score, f1_score \n",
    "from sklearn.ensemble import IsolationForest\n",
    "from sklearn.neighbors import LocalOutlierFactor\n",
    "from sklearn import tree"
   ]
  },
  {
   "cell_type": "markdown",
   "id": "massive-marathon",
   "metadata": {},
   "source": [
    "### Loading data from CSV"
   ]
  },
  {
   "cell_type": "code",
   "execution_count": 2,
   "id": "molecular-footage",
   "metadata": {},
   "outputs": [
    {
     "data": {
      "text/html": [
       "<div>\n",
       "<style scoped>\n",
       "    .dataframe tbody tr th:only-of-type {\n",
       "        vertical-align: middle;\n",
       "    }\n",
       "\n",
       "    .dataframe tbody tr th {\n",
       "        vertical-align: top;\n",
       "    }\n",
       "\n",
       "    .dataframe thead th {\n",
       "        text-align: right;\n",
       "    }\n",
       "</style>\n",
       "<table border=\"1\" class=\"dataframe\">\n",
       "  <thead>\n",
       "    <tr style=\"text-align: right;\">\n",
       "      <th></th>\n",
       "      <th>slength</th>\n",
       "      <th>swidth</th>\n",
       "      <th>plength</th>\n",
       "      <th>pwidth</th>\n",
       "      <th>class</th>\n",
       "    </tr>\n",
       "  </thead>\n",
       "  <tbody>\n",
       "    <tr>\n",
       "      <th>0</th>\n",
       "      <td>5.1</td>\n",
       "      <td>3.5</td>\n",
       "      <td>1.4</td>\n",
       "      <td>0.2</td>\n",
       "      <td>Iris-setosa</td>\n",
       "    </tr>\n",
       "    <tr>\n",
       "      <th>1</th>\n",
       "      <td>4.9</td>\n",
       "      <td>3.0</td>\n",
       "      <td>1.4</td>\n",
       "      <td>0.2</td>\n",
       "      <td>Iris-setosa</td>\n",
       "    </tr>\n",
       "    <tr>\n",
       "      <th>2</th>\n",
       "      <td>4.7</td>\n",
       "      <td>3.2</td>\n",
       "      <td>1.3</td>\n",
       "      <td>0.2</td>\n",
       "      <td>Iris-setosa</td>\n",
       "    </tr>\n",
       "    <tr>\n",
       "      <th>3</th>\n",
       "      <td>4.6</td>\n",
       "      <td>3.1</td>\n",
       "      <td>1.5</td>\n",
       "      <td>0.2</td>\n",
       "      <td>Iris-setosa</td>\n",
       "    </tr>\n",
       "    <tr>\n",
       "      <th>4</th>\n",
       "      <td>5.0</td>\n",
       "      <td>3.6</td>\n",
       "      <td>1.4</td>\n",
       "      <td>0.2</td>\n",
       "      <td>Iris-setosa</td>\n",
       "    </tr>\n",
       "    <tr>\n",
       "      <th>...</th>\n",
       "      <td>...</td>\n",
       "      <td>...</td>\n",
       "      <td>...</td>\n",
       "      <td>...</td>\n",
       "      <td>...</td>\n",
       "    </tr>\n",
       "    <tr>\n",
       "      <th>145</th>\n",
       "      <td>6.7</td>\n",
       "      <td>3.0</td>\n",
       "      <td>5.2</td>\n",
       "      <td>2.3</td>\n",
       "      <td>Iris-virginica</td>\n",
       "    </tr>\n",
       "    <tr>\n",
       "      <th>146</th>\n",
       "      <td>6.3</td>\n",
       "      <td>2.5</td>\n",
       "      <td>5.0</td>\n",
       "      <td>1.9</td>\n",
       "      <td>Iris-virginica</td>\n",
       "    </tr>\n",
       "    <tr>\n",
       "      <th>147</th>\n",
       "      <td>6.5</td>\n",
       "      <td>3.0</td>\n",
       "      <td>5.2</td>\n",
       "      <td>2.0</td>\n",
       "      <td>Iris-virginica</td>\n",
       "    </tr>\n",
       "    <tr>\n",
       "      <th>148</th>\n",
       "      <td>6.2</td>\n",
       "      <td>3.4</td>\n",
       "      <td>5.4</td>\n",
       "      <td>2.3</td>\n",
       "      <td>Iris-virginica</td>\n",
       "    </tr>\n",
       "    <tr>\n",
       "      <th>149</th>\n",
       "      <td>5.9</td>\n",
       "      <td>3.0</td>\n",
       "      <td>5.1</td>\n",
       "      <td>1.8</td>\n",
       "      <td>Iris-virginica</td>\n",
       "    </tr>\n",
       "  </tbody>\n",
       "</table>\n",
       "<p>150 rows × 5 columns</p>\n",
       "</div>"
      ],
      "text/plain": [
       "     slength  swidth  plength  pwidth           class\n",
       "0        5.1     3.5      1.4     0.2     Iris-setosa\n",
       "1        4.9     3.0      1.4     0.2     Iris-setosa\n",
       "2        4.7     3.2      1.3     0.2     Iris-setosa\n",
       "3        4.6     3.1      1.5     0.2     Iris-setosa\n",
       "4        5.0     3.6      1.4     0.2     Iris-setosa\n",
       "..       ...     ...      ...     ...             ...\n",
       "145      6.7     3.0      5.2     2.3  Iris-virginica\n",
       "146      6.3     2.5      5.0     1.9  Iris-virginica\n",
       "147      6.5     3.0      5.2     2.0  Iris-virginica\n",
       "148      6.2     3.4      5.4     2.3  Iris-virginica\n",
       "149      5.9     3.0      5.1     1.8  Iris-virginica\n",
       "\n",
       "[150 rows x 5 columns]"
      ]
     },
     "execution_count": 2,
     "metadata": {},
     "output_type": "execute_result"
    }
   ],
   "source": [
    "df = pd.read_csv(\"iris.csv\")\n",
    "data = df.to_numpy()\n",
    "\n",
    "df"
   ]
  },
  {
   "cell_type": "markdown",
   "id": "canadian-excuse",
   "metadata": {},
   "source": [
    "### Visualizing the data"
   ]
  },
  {
   "cell_type": "code",
   "execution_count": 3,
   "id": "active-punishment",
   "metadata": {
    "scrolled": true
   },
   "outputs": [
    {
     "data": {
      "image/png": "[encoded data removed]",
      "text/plain": [
       "<Figure size 1080x360 with 2 Axes>"
      ]
     },
     "metadata": {
      "needs_background": "light"
     },
     "output_type": "display_data"
    }
   ],
   "source": [
    "plt.figure(figsize=(15, 5))\n",
    "\n",
    "plt.subplot(1,2,1)\n",
    "plt.scatter(data[data[:,4] == 'Iris-setosa'][:,0], data[data[:,4] == 'Iris-setosa'][:,1])\n",
    "plt.scatter(data[data[:,4] == 'Iris-versicolor'][:,0], data[data[:,4] == 'Iris-versicolor'][:,1])\n",
    "plt.scatter(data[data[:,4] == 'Iris-virginica'][:,0], data[data[:,4] == 'Iris-virginica'][:,1])\n",
    "plt.legend(['Iris-setosa', 'Iris-versicolor', 'Iris-virginica'])\n",
    "plt.title('slength vs swidth')\n",
    "\n",
    "plt.subplot(1,2,2)\n",
    "plt.scatter(data[data[:,4] == 'Iris-setosa'][:,2], data[data[:,4] == 'Iris-setosa'][:,3])\n",
    "plt.scatter(data[data[:,4] == 'Iris-versicolor'][:,2], data[data[:,4] == 'Iris-versicolor'][:,3])\n",
    "plt.scatter(data[data[:,4] == 'Iris-virginica'][:,2], data[data[:,4] == 'Iris-virginica'][:,3])\n",
    "plt.legend(['Iris-setosa', 'Iris-versicolor', 'Iris-virginica'])\n",
    "plt.title('plength vs pwidth')\n",
    "\n",
    "plt.show()"
   ]
  },
  {
   "cell_type": "markdown",
   "id": "attractive-recognition",
   "metadata": {},
   "source": [
    "------\n",
    "\n",
    "### Utility functions"
   ]
  },
  {
   "cell_type": "code",
   "execution_count": 4,
   "id": "outside-staff",
   "metadata": {},
   "outputs": [],
   "source": [
    "def onevall(data, c):\n",
    "    temp_Data = np.copy(data)\n",
    "    Class = ['Iris-setosa', 'Iris-versicolor', 'Iris-virginica']\n",
    "    \n",
    "    for i in range(3):\n",
    "        if i == c:\n",
    "            temp_Data[:,4][temp_Data[:, 4] == Class[c]] = 0\n",
    "        else:\n",
    "            temp_Data[:,4][temp_Data[:, 4] == Class[i]] = 1    \n",
    "    \n",
    "    return temp_Data[:, :4], temp_Data[:,-1]\n",
    "\n",
    "def OCCOVR(X_train, X_test, y_train, y_test):\n",
    "    model = OneClassSVM(gamma='scale', nu=0.01)\n",
    "\n",
    "    X_train = X_train[y_train==0]\n",
    "    model.fit(X_train)\n",
    "\n",
    "\n",
    "    yhat = model.predict(X_test)\n",
    "\n",
    "\n",
    "    y_test[y_test == 1] = -1\n",
    "    y_test[y_test == 0] = 1\n",
    "\n",
    "    score = f1_score(y_test.astype(np.int64), yhat, pos_label=-1)\n",
    "    \n",
    "    return score\n",
    "\n",
    "def iforestOVR(X_train, X_test, y_train, y_test):\n",
    "    model = IsolationForest()\n",
    "    \n",
    "    X_train = X_train[y_train==0]\n",
    "    model.fit(X_train)\n",
    "    \n",
    "    \n",
    "    yhat = model.predict(X_test)\n",
    "    \n",
    "    \n",
    "    y_test[y_test == 1] = -1\n",
    "    y_test[y_test == 0] = 1\n",
    "    \n",
    "    score = f1_score(y_test.astype(np.int64), yhat, pos_label=-1)\n",
    "\n",
    "    return score\n",
    "\n",
    "# make a prediction with a KDE model\n",
    "def KDE_predict(model, trainX, testX):\n",
    "    composite = np.vstack((trainX, testX))\n",
    "    \n",
    "    yhat = model.fit_predict(composite)\n",
    "    \n",
    "    return yhat[len(trainX):]\n",
    "\n",
    "\n",
    "def KDEOVR(X_train, X_test, y_train, y_test):\n",
    "    model = LocalOutlierFactor(contamination=0.5)\n",
    "    \n",
    "    X_train = X_train[y_train==0]\n",
    "    \n",
    "    yhat = KDE_predict(model, X_train, X_test)\n",
    "\n",
    "    \n",
    "    y_test[y_test == 1] = -1\n",
    "    y_test[y_test == 0] = 1\n",
    "\n",
    "    \n",
    "    score = f1_score(y_test.astype(np.int64), yhat, pos_label=-1)\n",
    "    \n",
    "    return score\n",
    "\n",
    "def OCTree_feature_selection(X_train, X_test, y_train, y_test):\n",
    "    dt = tree.DecisionTreeClassifier(max_depth=8, min_samples_leaf=5, random_state=0)\n",
    "    \n",
    "    X_train_float = np.array(X_train).astype(\"float\")\n",
    "    y_train_int = np.array(y_train).astype(\"int\")\n",
    "\n",
    "    dt.fit(X_train_float, y_train_int)\n",
    "\n",
    "    res = dt.predict(X_test)\n",
    "    res = res.astype(int)\n",
    "    res = np.reshape(res, len(res))\n",
    "    \n",
    "    y_test = np.reshape(y_test, len(y_test))\n",
    "\n",
    "    misclass = np.bitwise_xor(res, y_test)\n",
    "    misclass = misclass.astype(float)\n",
    "\n",
    "    aux = sum(misclass)/len(X_test)\n",
    "    \n",
    "    importances = dt.feature_importances_        \n",
    "    indices = np.nonzero(importances)\n",
    "\n",
    "            \n",
    "    X_train_float = X_train_float[:,indices]    \n",
    "    X_train_float = np.copy(X_train_float[:,0])\n",
    "        \n",
    "    X_test = X_test[:,indices]\n",
    "    X_test = np.copy(X_test[:,0])\n",
    "    \n",
    "    return aux, X_test, res\n",
    "\n",
    "def results(y_test, res):\n",
    "    y = y_test.astype(\"int\")\n",
    "\n",
    "    auc = roc_auc_score(y, res)\n",
    "    acc = accuracy_score(y, res) \n",
    "    print (\"Acc: %.2f, ROC/AUC: %.2f\" % (acc, auc))\n",
    "\n",
    "    prec = precision_score(y, res, average='macro')\n",
    "    recall = recall_score(y, res, average='macro')\n",
    "    f1 = f1_score(y, res, average='macro')\n",
    "    print (\"Average   - Prec: %.2f, Recall: %.2f, F1: %.2f\" % (prec, recall, f1))\n",
    "\n",
    "    prec = precision_score(y, res, average='binary', pos_label=0)\n",
    "    recall = recall_score(y, res, average='binary', pos_label=0)\n",
    "    f1 = f1_score(y, res, average='binary', pos_label=0)\n",
    "    print (\"Pos_lab:0 - Prec: %.2f, Recall: %.2f, F1: %.2f\" % (prec, recall, f1))\n",
    "\n",
    "    prec = precision_score(y, res, average='binary', pos_label=1)\n",
    "    recall = recall_score(y, res, average='binary', pos_label=1)\n",
    "    f1 = f1_score(y, res, average='binary', pos_label=1)\n",
    "    print (\"Pos_lab:1 - Prec: %.2f, Recall: %.2f, F1: %.2f\" % (prec, recall, f1))"
   ]
  },
  {
   "cell_type": "markdown",
   "id": "alpine-lotus",
   "metadata": {},
   "source": [
    "------\n",
    "\n",
    "### Data Pre-Processing"
   ]
  },
  {
   "cell_type": "code",
   "execution_count": 5,
   "id": "hungry-promotion",
   "metadata": {
    "scrolled": true
   },
   "outputs": [],
   "source": [
    "X_0, y_0 = onevall(data, 0)\n",
    "X_1, y_1 = onevall(data, 1)\n",
    "X_2, y_2 = onevall(data, 2)\n",
    "\n",
    "X_0_train, X_0_test, y_0_train, y_0_test = train_test_split(X_0, y_0, test_size=0.30, random_state=42)\n",
    "X_1_train, X_1_test, y_1_train, y_1_test = train_test_split(X_1, y_1, test_size=0.30, random_state=42)\n",
    "X_2_train, X_2_test, y_2_train, y_2_test = train_test_split(X_2, y_2, test_size=0.30, random_state=42)"
   ]
  },
  {
   "cell_type": "markdown",
   "id": "combined-vegetarian",
   "metadata": {},
   "source": [
    "------\n",
    "\n",
    "### Models Training and Testing\n",
    "\n",
    "#### One Class Classification using One v All "
   ]
  },
  {
   "cell_type": "code",
   "execution_count": 6,
   "id": "legitimate-stanley",
   "metadata": {},
   "outputs": [],
   "source": [
    "f1_0 = OCCOVR(X_0_train, X_0_test, y_0_train, y_0_test)\n",
    "f1_1 = OCCOVR(X_1_train, X_1_test, y_1_train, y_1_test)\n",
    "f1_2 = OCCOVR(X_2_train, X_2_test, y_2_train, y_2_test)\n",
    "\n",
    "X_0, y_0 = onevall(data, 0)\n",
    "X_1, y_1 = onevall(data, 1)\n",
    "X_2, y_2 = onevall(data, 2)\n",
    "\n",
    "X_0_train, X_0_test, y_0_train, y_0_test = train_test_split(X_0, y_0, test_size=0.30, random_state=42)\n",
    "X_1_train, X_1_test, y_1_train, y_1_test = train_test_split(X_1, y_1, test_size=0.30, random_state=42)\n",
    "X_2_train, X_2_test, y_2_train, y_2_test = train_test_split(X_2, y_2, test_size=0.30, random_state=42)"
   ]
  },
  {
   "cell_type": "markdown",
   "id": "damaged-effect",
   "metadata": {},
   "source": [
    "#### Result"
   ]
  },
  {
   "cell_type": "code",
   "execution_count": 7,
   "id": "another-salvation",
   "metadata": {},
   "outputs": [],
   "source": [
    "res_OCC = (f1_0+f1_1+f1_2)/3"
   ]
  },
  {
   "cell_type": "markdown",
   "id": "comic-disclaimer",
   "metadata": {},
   "source": [
    "#### Isolation forest using One v All"
   ]
  },
  {
   "cell_type": "code",
   "execution_count": 8,
   "id": "trying-timer",
   "metadata": {},
   "outputs": [],
   "source": [
    "f1_0 = iforestOVR(X_0_train, X_0_test, y_0_train, y_0_test)\n",
    "f1_1 = iforestOVR(X_1_train, X_1_test, y_1_train, y_1_test)\n",
    "f1_2 = iforestOVR(X_2_train, X_2_test, y_2_train, y_2_test)\n",
    "\n",
    "X_0, y_0 = onevall(data, 0)\n",
    "X_1, y_1 = onevall(data, 1)\n",
    "X_2, y_2 = onevall(data, 2)\n",
    "\n",
    "X_0_train, X_0_test, y_0_train, y_0_test = train_test_split(X_0, y_0, test_size=0.30, random_state=42)\n",
    "X_1_train, X_1_test, y_1_train, y_1_test = train_test_split(X_1, y_1, test_size=0.30, random_state=42)\n",
    "X_2_train, X_2_test, y_2_train, y_2_test = train_test_split(X_2, y_2, test_size=0.30, random_state=42)"
   ]
  },
  {
   "cell_type": "markdown",
   "id": "loving-unknown",
   "metadata": {},
   "source": [
    "#### Result"
   ]
  },
  {
   "cell_type": "code",
   "execution_count": 9,
   "id": "invisible-owner",
   "metadata": {},
   "outputs": [],
   "source": [
    "res_iforest = (f1_0+f1_1+f1_2)/3"
   ]
  },
  {
   "cell_type": "markdown",
   "id": "thick-scale",
   "metadata": {},
   "source": [
    "#### KDE using One v All"
   ]
  },
  {
   "cell_type": "code",
   "execution_count": 10,
   "id": "employed-tribute",
   "metadata": {},
   "outputs": [],
   "source": [
    "f1_0 = KDEOVR(X_0_train, X_0_test, y_0_train, y_0_test)\n",
    "f1_1 = KDEOVR(X_1_train, X_1_test, y_1_train, y_1_test)\n",
    "f1_2 = KDEOVR(X_2_train, X_2_test, y_2_train, y_2_test)\n",
    "\n",
    "X_0, y_0 = onevall(data, 0)\n",
    "X_1, y_1 = onevall(data, 1)\n",
    "X_2, y_2 = onevall(data, 2)\n",
    "\n",
    "X_0_train, X_0_test, y_0_train, y_0_test = train_test_split(X_0, y_0, test_size=0.30, random_state=42)\n",
    "X_1_train, X_1_test, y_1_train, y_1_test = train_test_split(X_1, y_1, test_size=0.30, random_state=42)\n",
    "X_2_train, X_2_test, y_2_train, y_2_test = train_test_split(X_2, y_2, test_size=0.30, random_state=42)"
   ]
  },
  {
   "cell_type": "markdown",
   "id": "straight-disabled",
   "metadata": {},
   "source": [
    "#### Result"
   ]
  },
  {
   "cell_type": "code",
   "execution_count": 11,
   "id": "located-typing",
   "metadata": {},
   "outputs": [],
   "source": [
    "res_KDE = (f1_0+f1_1+f1_2)/3"
   ]
  },
  {
   "cell_type": "markdown",
   "id": "interstate-original",
   "metadata": {},
   "source": [
    "------\n",
    "\n",
    "### Final results of 3 reference models"
   ]
  },
  {
   "cell_type": "code",
   "execution_count": 12,
   "id": "changing-netscape",
   "metadata": {},
   "outputs": [
    {
     "name": "stdout",
     "output_type": "stream",
     "text": [
      "FINAL RESULTS OF THE 3 MODELS : \n",
      "F1 score for OCC : \t 0.911529432223285\n",
      "F1 score for iforest : \t 0.93208779524569\n",
      "F1 score for KDE : \t 0.7629261701116655\n"
     ]
    }
   ],
   "source": [
    "print(\"FINAL RESULTS OF THE 3 MODELS : \")\n",
    "print(\"F1 score for OCC : \\t\", res_OCC)\n",
    "print(\"F1 score for iforest : \\t\", res_iforest)\n",
    "print(\"F1 score for KDE : \\t\", res_KDE)"
   ]
  },
  {
   "cell_type": "markdown",
   "id": "constant-louisiana",
   "metadata": {},
   "source": [
    "------\n",
    "\n",
    "### Proposed Model - OC-Tree"
   ]
  },
  {
   "cell_type": "code",
   "execution_count": 13,
   "id": "increasing-southwest",
   "metadata": {},
   "outputs": [
    {
     "name": "stdout",
     "output_type": "stream",
     "text": [
      "Misclassified samples: 0.0\n",
      "Misclassified samples: 0.0\n",
      "Misclassified samples: 0.022222222222222223\n"
     ]
    }
   ],
   "source": [
    "aux_0, X_0_test_new, res_0 = OCTree_feature_selection(X_0_train, X_0_test, y_0_train, y_0_test)\n",
    "aux_1, X_1_test_new, res_1 = OCTree_feature_selection(X_1_train, X_1_test, y_1_train, y_1_test)\n",
    "aux_2, X_2_test_new, res_2 = OCTree_feature_selection(X_2_train, X_2_test, y_2_train, y_2_test)\n",
    "\n",
    "print (\"Misclassified samples:\", aux_0)\n",
    "print (\"Misclassified samples:\", aux_1)\n",
    "print (\"Misclassified samples:\", aux_2)"
   ]
  },
  {
   "cell_type": "markdown",
   "id": "numerical-fisher",
   "metadata": {},
   "source": [
    "### Results of Proposed Model"
   ]
  },
  {
   "cell_type": "code",
   "execution_count": 14,
   "id": "danish-watershed",
   "metadata": {},
   "outputs": [
    {
     "name": "stdout",
     "output_type": "stream",
     "text": [
      "For Class 0 vs Rest\n",
      "Acc: 1.00, ROC/AUC: 1.00\n",
      "Average   - Prec: 1.00, Recall: 1.00, F1: 1.00\n",
      "Pos_lab:0 - Prec: 1.00, Recall: 1.00, F1: 1.00\n",
      "Pos_lab:1 - Prec: 1.00, Recall: 1.00, F1: 1.00\n",
      "\n",
      "For Class 1 vs Rest\n",
      "Acc: 1.00, ROC/AUC: 1.00\n",
      "Average   - Prec: 1.00, Recall: 1.00, F1: 1.00\n",
      "Pos_lab:0 - Prec: 1.00, Recall: 1.00, F1: 1.00\n",
      "Pos_lab:1 - Prec: 1.00, Recall: 1.00, F1: 1.00\n",
      "\n",
      "For Class 2 vs Rest\n",
      "Acc: 0.98, ROC/AUC: 0.98\n",
      "Average   - Prec: 0.96, Recall: 0.98, F1: 0.97\n",
      "Pos_lab:0 - Prec: 0.93, Recall: 1.00, F1: 0.96\n",
      "Pos_lab:1 - Prec: 1.00, Recall: 0.97, F1: 0.98\n"
     ]
    }
   ],
   "source": [
    "print(\"For Class 0 vs Rest\")\n",
    "results(y_0_test, res_0)\n",
    "\n",
    "print(\"\\nFor Class 1 vs Rest\")\n",
    "results(y_1_test, res_1)\n",
    "\n",
    "print(\"\\nFor Class 2 vs Rest\")\n",
    "results(y_2_test, res_2)"
   ]
  },
  {
   "cell_type": "markdown",
   "id": "sized-shelter",
   "metadata": {},
   "source": [
    "### F1 score of the OC-Tree Model"
   ]
  },
  {
   "cell_type": "code",
   "execution_count": 15,
   "id": "southeast-browser",
   "metadata": {},
   "outputs": [
    {
     "name": "stdout",
     "output_type": "stream",
     "text": [
      "F1 score for OC-Tree : 0.9700000000000001\n"
     ]
    }
   ],
   "source": [
    "avg_F1 = (0.97 + 0.96 + 0.98)/3\n",
    "print(\"F1 score for OC-Tree :\", avg_F1)"
   ]
  }
 ],
 "metadata": {
  "kernelspec": {
   "display_name": "Python 3",
   "language": "python",
   "name": "python3"
  },
  "language_info": {
   "codemirror_mode": {
    "name": "ipython",
    "version": 3
   },
   "file_extension": ".py",
   "mimetype": "text/x-python",
   "name": "python",
   "nbconvert_exporter": "python",
   "pygments_lexer": "ipython3",
   "version": "3.8.5"
  }
 },
 "nbformat": 4,
 "nbformat_minor": 5
}
